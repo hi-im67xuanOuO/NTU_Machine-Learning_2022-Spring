{
  "cells": [
    {
      "cell_type": "markdown",
      "metadata": {
        "id": "OYlaRwNu7ojq"
      },
      "source": [
        "# **Homework 2 Phoneme Classification**\n",
        "\n",
        "* Slides: https://docs.google.com/presentation/d/1v6HkBWiJb8WNDcJ9_-2kwVstxUWml87b9CnA16Gdoio/edit?usp=sharing\n",
        "* Kaggle: https://www.kaggle.com/c/ml2022spring-hw2\n",
        "* Video: TBA\n"
      ]
    },
    {
      "cell_type": "code",
      "execution_count": 82,
      "metadata": {
        "colab": {
          "base_uri": "https://localhost:8080/"
        },
        "id": "mLQI0mNcmM-O",
        "outputId": "7d5b4d81-9438-4d50-8153-cd235c47ee21"
      },
      "outputs": [
        {
          "name": "stdout",
          "output_type": "stream",
          "text": [
            "Sun Feb 27 15:24:39 2022       \n",
            "+-----------------------------------------------------------------------------+\n",
            "| NVIDIA-SMI 510.47.03    Driver Version: 510.47.03    CUDA Version: 11.6     |\n",
            "|-------------------------------+----------------------+----------------------+\n",
            "| GPU  Name        Persistence-M| Bus-Id        Disp.A | Volatile Uncorr. ECC |\n",
            "| Fan  Temp  Perf  Pwr:Usage/Cap|         Memory-Usage | GPU-Util  Compute M. |\n",
            "|                               |                      |               MIG M. |\n",
            "|===============================+======================+======================|\n",
            "|   0  NVIDIA GeForce ...  On   | 00000000:01:00.0  On |                  N/A |\n",
            "|  0%   48C    P8    17W / 180W |   1472MiB /  8192MiB |     37%      Default |\n",
            "|                               |                      |                  N/A |\n",
            "+-------------------------------+----------------------+----------------------+\n",
            "                                                                               \n",
            "+-----------------------------------------------------------------------------+\n",
            "| Processes:                                                                  |\n",
            "|  GPU   GI   CI        PID   Type   Process name                  GPU Memory |\n",
            "|        ID   ID                                                   Usage      |\n",
            "|=============================================================================|\n",
            "|    0   N/A  N/A       996      G   /usr/lib/xorg/Xorg                 35MiB |\n",
            "|    0   N/A  N/A      1553      G   /usr/lib/xorg/Xorg                116MiB |\n",
            "|    0   N/A  N/A      1720      G   /usr/bin/gnome-shell               33MiB |\n",
            "|    0   N/A  N/A      2989      G   ...105037814962439438,131072       19MiB |\n",
            "|    0   N/A  N/A      3940      G   ...AAAAAAAAA= --shared-files      140MiB |\n",
            "|    0   N/A  N/A      4198      C   ...suan/anaconda3/bin/python     1107MiB |\n",
            "+-----------------------------------------------------------------------------+\n"
          ]
        }
      ],
      "source": [
        "!nvidia-smi"
      ]
    },
    {
      "cell_type": "markdown",
      "metadata": {
        "id": "KVUGfWTo7_Oj"
      },
      "source": [
        "## Download Data\n",
        "Download data from google drive, then unzip it.\n",
        "\n",
        "You should have\n",
        "- `libriphone/train_split.txt`\n",
        "- `libriphone/train_labels`\n",
        "- `libriphone/test_split.txt`\n",
        "- `libriphone/feat/train/*.pt`: training feature<br>\n",
        "- `libriphone/feat/test/*.pt`:  testing feature<br>\n",
        "\n",
        "after running the following block.\n",
        "\n",
        "> **Notes: if the google drive link is dead, you can download the data directly from [Kaggle](https://www.kaggle.com/c/ml2022spring-hw2/data) and upload it to the workspace**\n"
      ]
    },
    {
      "cell_type": "markdown",
      "metadata": {
        "id": "Bj5jYXsD9Ef3"
      },
      "source": [
        "### Download train/test metadata"
      ]
    },
    {
      "cell_type": "code",
      "execution_count": 83,
      "metadata": {
        "colab": {
          "base_uri": "https://localhost:8080/"
        },
        "id": "OzkiMEcC3Foq",
        "outputId": "0c8644b9-8a1e-4d23-de78-bef46c22bb1f"
      },
      "outputs": [],
      "source": [
        "# !pip install --upgrade gdown\n",
        "\n",
        "# # Main link\n",
        "# !gdown --id '1o6Ag-G3qItSmYhTheX6DYiuyNzWyHyTc' --output libriphone.zip\n",
        "\n",
        "# # Backup link 1\n",
        "# # !gdown --id '1R1uQYi4QpX0tBfUWt2mbZcncdBsJkxeW' --output libriphone.zip\n",
        "\n",
        "# # Bqckup link 2\n",
        "# # !wget -O libriphone.zip \"https://www.dropbox.com/s/wqww8c5dbrl2ka9/libriphone.zip?dl=1\"\n",
        "\n",
        "# !unzip -q libriphone.zip\n",
        "# !ls libriphone"
      ]
    },
    {
      "cell_type": "markdown",
      "metadata": {
        "id": "_L_4anls8Drv"
      },
      "source": [
        "### Preparing Data"
      ]
    },
    {
      "cell_type": "markdown",
      "metadata": {
        "id": "po4N3C-AWuWl"
      },
      "source": [
        "**Helper functions to pre-process the training data from raw MFCC features of each utterance.**\n",
        "\n",
        "A phoneme may span several frames and is dependent to past and future frames. \\\n",
        "Hence we concatenate neighboring phonemes for training to achieve higher accuracy. The **concat_feat** function concatenates past and future k frames (total 2k+1 = n frames), and we predict the center frame.\n",
        "\n",
        "Feel free to modify the data preprocess functions, but **do not drop any frame** (if you modify the functions, remember to check that the number of frames are the same as mentioned in the slides)"
      ]
    },
    {
      "cell_type": "code",
      "execution_count": 84,
      "metadata": {
        "id": "IJjLT8em-y9G"
      },
      "outputs": [],
      "source": [
        "import os\n",
        "import random\n",
        "import pandas as pd\n",
        "import torch\n",
        "from tqdm import tqdm\n",
        "\n",
        "def load_feat(path):\n",
        "    feat = torch.load(path)\n",
        "    return feat\n",
        "\n",
        "def shift(x, n):\n",
        "    if n < 0:\n",
        "        left = x[0].repeat(-n, 1)\n",
        "        right = x[:n]\n",
        "\n",
        "    elif n > 0:\n",
        "        right = x[-1].repeat(n, 1)\n",
        "        left = x[n:]\n",
        "    else:\n",
        "        return x\n",
        "\n",
        "    return torch.cat((left, right), dim=0)\n",
        "\n",
        "def concat_feat(x, concat_n):\n",
        "    assert concat_n % 2 == 1 # n must be odd\n",
        "    if concat_n < 2:\n",
        "        return x\n",
        "    seq_len, feature_dim = x.size(0), x.size(1)\n",
        "    x = x.repeat(1, concat_n) \n",
        "    x = x.view(seq_len, concat_n, feature_dim).permute(1, 0, 2) # concat_n, seq_len, feature_dim\n",
        "    mid = (concat_n // 2)\n",
        "    for r_idx in range(1, mid+1):\n",
        "        x[mid + r_idx, :] = shift(x[mid + r_idx], r_idx)\n",
        "        x[mid - r_idx, :] = shift(x[mid - r_idx], -r_idx)\n",
        "\n",
        "    return x.permute(1, 0, 2).view(seq_len, concat_n * feature_dim)\n",
        "\n",
        "def preprocess_data(split, feat_dir, phone_path, concat_nframes, train_ratio=0.8, train_val_seed=1337):\n",
        "    class_num = 41 # NOTE: pre-computed, should not need change\n",
        "    mode = 'train' if (split == 'train' or split == 'val') else 'test'\n",
        "\n",
        "    label_dict = {}\n",
        "    if mode != 'test':\n",
        "      phone_file = open(os.path.join(phone_path, f'{mode}_labels.txt')).readlines()\n",
        "\n",
        "      for line in phone_file:\n",
        "          line = line.strip('\\n').split(' ')\n",
        "          label_dict[line[0]] = [int(p) for p in line[1:]]\n",
        "\n",
        "    if split == 'train' or split == 'val':\n",
        "        # split training and validation data\n",
        "        usage_list = open(os.path.join(phone_path, 'train_split.txt')).readlines()\n",
        "        random.seed(train_val_seed)\n",
        "        random.shuffle(usage_list)\n",
        "        percent = int(len(usage_list) * train_ratio)\n",
        "        usage_list = usage_list[:percent] if split == 'train' else usage_list[percent:]\n",
        "    elif split == 'test':\n",
        "        usage_list = open(os.path.join(phone_path, 'test_split.txt')).readlines()\n",
        "    else:\n",
        "        raise ValueError('Invalid \\'split\\' argument for dataset: PhoneDataset!')\n",
        "\n",
        "    usage_list = [line.strip('\\n') for line in usage_list]\n",
        "    print('[Dataset] - # phone classes: ' + str(class_num) + ', number of utterances for ' + split + ': ' + str(len(usage_list)))\n",
        "\n",
        "    max_len = 3000000\n",
        "    X = torch.empty(max_len, 39 * concat_nframes)\n",
        "    if mode != 'test':\n",
        "      y = torch.empty(max_len, dtype=torch.long)\n",
        "\n",
        "    idx = 0\n",
        "    for i, fname in tqdm(enumerate(usage_list)):\n",
        "        feat = load_feat(os.path.join(feat_dir, mode, f'{fname}.pt'))\n",
        "        cur_len = len(feat)\n",
        "        feat = concat_feat(feat, concat_nframes)\n",
        "        if mode != 'test':\n",
        "          label = torch.LongTensor(label_dict[fname])\n",
        "\n",
        "        X[idx: idx + cur_len, :] = feat\n",
        "        if mode != 'test':\n",
        "          y[idx: idx + cur_len] = label\n",
        "\n",
        "        idx += cur_len\n",
        "\n",
        "    X = X[:idx, :]\n",
        "    if mode != 'test':\n",
        "      y = y[:idx]\n",
        "\n",
        "    print(f'[INFO] {split} set')\n",
        "    print(X.shape)\n",
        "    if mode != 'test':\n",
        "      print(y.shape)\n",
        "      return X, y\n",
        "    else:\n",
        "      return X\n"
      ]
    },
    {
      "cell_type": "markdown",
      "metadata": {
        "id": "us5XW_x6udZQ"
      },
      "source": [
        "## Define Dataset"
      ]
    },
    {
      "cell_type": "code",
      "execution_count": 85,
      "metadata": {
        "id": "Fjf5EcmJtf4e"
      },
      "outputs": [],
      "source": [
        "import torch\n",
        "from torch.utils.data import Dataset\n",
        "from torch.utils.data import DataLoader\n",
        "\n",
        "class LibriDataset(Dataset):\n",
        "    def __init__(self, X, y=None):\n",
        "        self.data = X\n",
        "        if y is not None:\n",
        "            self.label = torch.LongTensor(y)\n",
        "        else:\n",
        "            self.label = None\n",
        "\n",
        "    def __getitem__(self, idx):\n",
        "        if self.label is not None:\n",
        "            return self.data[idx], self.label[idx]\n",
        "        else:\n",
        "            return self.data[idx]\n",
        "\n",
        "    def __len__(self):\n",
        "        return len(self.data)\n"
      ]
    },
    {
      "cell_type": "markdown",
      "metadata": {
        "id": "IRqKNvNZwe3V"
      },
      "source": [
        "## Define Model"
      ]
    },
    {
      "cell_type": "code",
      "execution_count": 86,
      "metadata": {
        "id": "Bg-GRd7ywdrL"
      },
      "outputs": [],
      "source": [
        "import torch\n",
        "import torch.nn as nn\n",
        "import torch.nn.functional as F\n",
        "\n",
        "class BasicBlock(nn.Module):\n",
        "    def __init__(self, input_dim, output_dim):\n",
        "        super(BasicBlock, self).__init__()\n",
        "\n",
        "        self.block = nn.Sequential(\n",
        "            nn.Linear(input_dim, output_dim),\n",
        "            nn.BatchNorm1d(output_dim),\n",
        "            nn.Dropout(p=0.2),\n",
        "            nn.LeakyReLU(),\n",
        "        )\n",
        "\n",
        "    def forward(self, x):\n",
        "        x = self.block(x)\n",
        "        return x\n",
        "\n",
        "\n",
        "class Classifier(nn.Module):\n",
        "    def __init__(self, input_dim, output_dim=41, hidden_layers=1, hidden_dim=256):\n",
        "        super(Classifier, self).__init__()\n",
        "\n",
        "        self.fc = nn.Sequential(\n",
        "            BasicBlock(input_dim, hidden_dim),\n",
        "            *[BasicBlock(hidden_dim, hidden_dim) for _ in range(hidden_layers)],\n",
        "            nn.Linear(hidden_dim, output_dim)\n",
        "        )\n",
        "\n",
        "    def forward(self, x):\n",
        "        x = self.fc(x)\n",
        "        return x"
      ]
    },
    {
      "cell_type": "markdown",
      "metadata": {
        "id": "TlIq8JeqvvHC"
      },
      "source": [
        "## Hyper-parameters"
      ]
    },
    {
      "cell_type": "code",
      "execution_count": 89,
      "metadata": {
        "id": "iIHn79Iav1ri"
      },
      "outputs": [],
      "source": [
        "# data prarameters\n",
        "concat_nframes = 31             # the number of frames to concat with, n must be odd (total 2k+1 = n frames)\n",
        "train_ratio = 0.8               # the ratio of data used for training, the rest will be used for validation\n",
        "\n",
        "# training parameters\n",
        "seed = 0                        # random seed\n",
        "batch_size = 2000               # batch size\n",
        "num_epoch = 100                 # the number of training epoch\n",
        "learning_rate = 0.001           # learning rate\n",
        "model_path = './model.ckpt'     # the path where the checkpoint will be saved\n",
        "\n",
        "# model parameters\n",
        "input_dim = 39 * concat_nframes # the input dim of the model, you should not change the value\n",
        "hidden_layers = 8               # the number of hidden layers\n",
        "hidden_dim = 800                # the hidden dim\n",
        "\n",
        "early_stop_setting = 10"
      ]
    },
    {
      "cell_type": "markdown",
      "metadata": {
        "id": "IIUFRgG5yoDn"
      },
      "source": [
        "## Prepare dataset and model"
      ]
    },
    {
      "cell_type": "code",
      "execution_count": 90,
      "metadata": {
        "colab": {
          "base_uri": "https://localhost:8080/"
        },
        "id": "c1zI3v5jyrDn",
        "outputId": "7fd90470-ef44-404a-a043-cb8e83fd1801"
      },
      "outputs": [
        {
          "name": "stderr",
          "output_type": "stream",
          "text": [
            "21it [00:00, 205.85it/s]"
          ]
        },
        {
          "name": "stdout",
          "output_type": "stream",
          "text": [
            "[Dataset] - # phone classes: 41, number of utterances for train: 3428\n"
          ]
        },
        {
          "name": "stderr",
          "output_type": "stream",
          "text": [
            "3428it [00:09, 370.78it/s]\n"
          ]
        },
        {
          "name": "stdout",
          "output_type": "stream",
          "text": [
            "[INFO] train set\n",
            "torch.Size([2116368, 1209])\n",
            "torch.Size([2116368])\n"
          ]
        },
        {
          "name": "stderr",
          "output_type": "stream",
          "text": [
            "40it [00:00, 396.54it/s]"
          ]
        },
        {
          "name": "stdout",
          "output_type": "stream",
          "text": [
            "[Dataset] - # phone classes: 41, number of utterances for val: 858\n"
          ]
        },
        {
          "name": "stderr",
          "output_type": "stream",
          "text": [
            "858it [00:02, 294.01it/s]"
          ]
        },
        {
          "name": "stdout",
          "output_type": "stream",
          "text": [
            "[INFO] val set\n",
            "torch.Size([527790, 1209])\n",
            "torch.Size([527790])\n"
          ]
        },
        {
          "name": "stderr",
          "output_type": "stream",
          "text": [
            "\n"
          ]
        }
      ],
      "source": [
        "import gc\n",
        "\n",
        "# preprocess data\n",
        "train_X, train_y = preprocess_data(split='train', feat_dir='./libriphone/feat', phone_path='./libriphone', concat_nframes=concat_nframes, train_ratio=train_ratio)\n",
        "val_X, val_y = preprocess_data(split='val', feat_dir='./libriphone/feat', phone_path='./libriphone', concat_nframes=concat_nframes, train_ratio=train_ratio)\n",
        "\n",
        "# get dataset\n",
        "train_set = LibriDataset(train_X, train_y)\n",
        "val_set = LibriDataset(val_X, val_y)\n",
        "\n",
        "# remove raw feature to save memory\n",
        "del train_X, train_y, val_X, val_y\n",
        "gc.collect()\n",
        "\n",
        "# get dataloader\n",
        "train_loader = DataLoader(train_set, batch_size=batch_size, shuffle=True)\n",
        "val_loader = DataLoader(val_set, batch_size=batch_size, shuffle=False)"
      ]
    },
    {
      "cell_type": "code",
      "execution_count": 91,
      "metadata": {
        "colab": {
          "base_uri": "https://localhost:8080/"
        },
        "id": "CfRUEgC0GxUV",
        "outputId": "75dcb672-a97d-43ff-b0f1-cb23d27fe65a"
      },
      "outputs": [
        {
          "name": "stdout",
          "output_type": "stream",
          "text": [
            "DEVICE: cuda:0\n"
          ]
        }
      ],
      "source": [
        "device = 'cuda:0' if torch.cuda.is_available() else 'cpu'\n",
        "print(f'DEVICE: {device}')"
      ]
    },
    {
      "cell_type": "code",
      "execution_count": 92,
      "metadata": {
        "id": "88xPiUnm0tAd"
      },
      "outputs": [],
      "source": [
        "import numpy as np\n",
        "\n",
        "#fix seed\n",
        "def same_seeds(seed):\n",
        "    torch.manual_seed(seed)\n",
        "    if torch.cuda.is_available():\n",
        "        torch.cuda.manual_seed(seed)\n",
        "        torch.cuda.manual_seed_all(seed)  \n",
        "    np.random.seed(seed)  \n",
        "    torch.backends.cudnn.benchmark = False\n",
        "    torch.backends.cudnn.deterministic = True"
      ]
    },
    {
      "cell_type": "code",
      "execution_count": 93,
      "metadata": {
        "id": "QTp3ZXg1yO9Y"
      },
      "outputs": [],
      "source": [
        "# fix random seed\n",
        "same_seeds(seed)\n",
        "\n",
        "# create model, define a loss function, and optimizer\n",
        "model = Classifier(input_dim=input_dim, hidden_layers=hidden_layers, hidden_dim=hidden_dim).to(device)\n",
        "criterion = nn.CrossEntropyLoss() \n",
        "optimizer = torch.optim.AdamW(model.parameters(), lr=learning_rate)"
      ]
    },
    {
      "cell_type": "markdown",
      "metadata": {
        "id": "pwWH1KIqzxEr"
      },
      "source": [
        "## Training"
      ]
    },
    {
      "cell_type": "code",
      "execution_count": 94,
      "metadata": {
        "colab": {
          "base_uri": "https://localhost:8080/"
        },
        "id": "CdMWsBs7zzNs",
        "outputId": "cfb0046d-52a5-4a90-c073-f4091e8b230e"
      },
      "outputs": [
        {
          "name": "stderr",
          "output_type": "stream",
          "text": [
            "100%|██████████| 1059/1059 [00:44<00:00, 23.60it/s]\n",
            "100%|██████████| 264/264 [00:06<00:00, 43.50it/s]\n",
            "  0%|          | 0/1059 [00:00<?, ?it/s]"
          ]
        },
        {
          "name": "stdout",
          "output_type": "stream",
          "text": [
            "[001/100] Train Acc: 0.581537 Loss: 1.382006 | Val Acc: 0.657464 loss: 1.095567\n",
            "saving model with acc 0.657\n"
          ]
        },
        {
          "name": "stderr",
          "output_type": "stream",
          "text": [
            "100%|██████████| 1059/1059 [00:44<00:00, 23.64it/s]\n",
            "100%|██████████| 264/264 [00:06<00:00, 42.24it/s]\n",
            "  0%|          | 0/1059 [00:00<?, ?it/s]"
          ]
        },
        {
          "name": "stdout",
          "output_type": "stream",
          "text": [
            "[002/100] Train Acc: 0.654860 Loss: 1.114140 | Val Acc: 0.690379 loss: 0.985785\n",
            "saving model with acc 0.690\n"
          ]
        },
        {
          "name": "stderr",
          "output_type": "stream",
          "text": [
            "100%|██████████| 1059/1059 [00:44<00:00, 23.61it/s]\n",
            "100%|██████████| 264/264 [00:06<00:00, 42.45it/s]\n"
          ]
        },
        {
          "name": "stdout",
          "output_type": "stream",
          "text": [
            "[003/100] Train Acc: 0.681832 Loss: 1.020973 | Val Acc: 0.707852 loss: 0.928728\n"
          ]
        },
        {
          "name": "stderr",
          "output_type": "stream",
          "text": [
            "  0%|          | 0/1059 [00:00<?, ?it/s]"
          ]
        },
        {
          "name": "stdout",
          "output_type": "stream",
          "text": [
            "saving model with acc 0.708\n"
          ]
        },
        {
          "name": "stderr",
          "output_type": "stream",
          "text": [
            "100%|██████████| 1059/1059 [00:43<00:00, 24.10it/s]\n",
            "100%|██████████| 264/264 [00:05<00:00, 44.25it/s]\n",
            "  0%|          | 0/1059 [00:00<?, ?it/s]"
          ]
        },
        {
          "name": "stdout",
          "output_type": "stream",
          "text": [
            "[004/100] Train Acc: 0.698936 Loss: 0.960876 | Val Acc: 0.718325 loss: 0.895736\n",
            "saving model with acc 0.718\n"
          ]
        },
        {
          "name": "stderr",
          "output_type": "stream",
          "text": [
            "100%|██████████| 1059/1059 [00:44<00:00, 24.02it/s]\n",
            "100%|██████████| 264/264 [00:05<00:00, 44.98it/s]\n",
            "  0%|          | 0/1059 [00:00<?, ?it/s]"
          ]
        },
        {
          "name": "stdout",
          "output_type": "stream",
          "text": [
            "[005/100] Train Acc: 0.712141 Loss: 0.916322 | Val Acc: 0.725758 loss: 0.869230\n",
            "saving model with acc 0.726\n"
          ]
        },
        {
          "name": "stderr",
          "output_type": "stream",
          "text": [
            "100%|██████████| 1059/1059 [00:43<00:00, 24.18it/s]\n",
            "100%|██████████| 264/264 [00:05<00:00, 44.86it/s]\n"
          ]
        },
        {
          "name": "stdout",
          "output_type": "stream",
          "text": [
            "[006/100] Train Acc: 0.722617 Loss: 0.880698 | Val Acc: 0.731048 loss: 0.851846\n"
          ]
        },
        {
          "name": "stderr",
          "output_type": "stream",
          "text": [
            "  0%|          | 0/1059 [00:00<?, ?it/s]"
          ]
        },
        {
          "name": "stdout",
          "output_type": "stream",
          "text": [
            "saving model with acc 0.731\n"
          ]
        },
        {
          "name": "stderr",
          "output_type": "stream",
          "text": [
            "100%|██████████| 1059/1059 [00:44<00:00, 23.97it/s]\n",
            "100%|██████████| 264/264 [00:05<00:00, 44.46it/s]\n",
            "  0%|          | 0/1059 [00:00<?, ?it/s]"
          ]
        },
        {
          "name": "stdout",
          "output_type": "stream",
          "text": [
            "[007/100] Train Acc: 0.731114 Loss: 0.850926 | Val Acc: 0.735164 loss: 0.839294\n",
            "saving model with acc 0.735\n"
          ]
        },
        {
          "name": "stderr",
          "output_type": "stream",
          "text": [
            "100%|██████████| 1059/1059 [00:44<00:00, 24.02it/s]\n",
            "100%|██████████| 264/264 [00:05<00:00, 45.19it/s]\n",
            "  0%|          | 0/1059 [00:00<?, ?it/s]"
          ]
        },
        {
          "name": "stdout",
          "output_type": "stream",
          "text": [
            "[008/100] Train Acc: 0.738871 Loss: 0.824925 | Val Acc: 0.738294 loss: 0.830735\n",
            "saving model with acc 0.738\n"
          ]
        },
        {
          "name": "stderr",
          "output_type": "stream",
          "text": [
            "100%|██████████| 1059/1059 [00:43<00:00, 24.13it/s]\n",
            "100%|██████████| 264/264 [00:05<00:00, 44.12it/s]\n",
            "  0%|          | 0/1059 [00:00<?, ?it/s]"
          ]
        },
        {
          "name": "stdout",
          "output_type": "stream",
          "text": [
            "[009/100] Train Acc: 0.744592 Loss: 0.804258 | Val Acc: 0.742996 loss: 0.816520\n",
            "saving model with acc 0.743\n"
          ]
        },
        {
          "name": "stderr",
          "output_type": "stream",
          "text": [
            "100%|██████████| 1059/1059 [00:44<00:00, 24.03it/s]\n",
            "100%|██████████| 264/264 [00:06<00:00, 43.81it/s]\n"
          ]
        },
        {
          "name": "stdout",
          "output_type": "stream",
          "text": [
            "[010/100] Train Acc: 0.749907 Loss: 0.786076 | Val Acc: 0.744870 loss: 0.810663\n"
          ]
        },
        {
          "name": "stderr",
          "output_type": "stream",
          "text": [
            "  0%|          | 0/1059 [00:00<?, ?it/s]"
          ]
        },
        {
          "name": "stdout",
          "output_type": "stream",
          "text": [
            "saving model with acc 0.745\n"
          ]
        },
        {
          "name": "stderr",
          "output_type": "stream",
          "text": [
            "100%|██████████| 1059/1059 [00:43<00:00, 24.09it/s]\n",
            "100%|██████████| 264/264 [00:05<00:00, 44.14it/s]\n"
          ]
        },
        {
          "name": "stdout",
          "output_type": "stream",
          "text": [
            "[011/100] Train Acc: 0.754706 Loss: 0.769532 | Val Acc: 0.746001 loss: 0.806340\n"
          ]
        },
        {
          "name": "stderr",
          "output_type": "stream",
          "text": [
            "  0%|          | 0/1059 [00:00<?, ?it/s]"
          ]
        },
        {
          "name": "stdout",
          "output_type": "stream",
          "text": [
            "saving model with acc 0.746\n"
          ]
        },
        {
          "name": "stderr",
          "output_type": "stream",
          "text": [
            "100%|██████████| 1059/1059 [00:43<00:00, 24.10it/s]\n",
            "100%|██████████| 264/264 [00:06<00:00, 43.97it/s]\n",
            "  0%|          | 0/1059 [00:00<?, ?it/s]"
          ]
        },
        {
          "name": "stdout",
          "output_type": "stream",
          "text": [
            "[012/100] Train Acc: 0.758296 Loss: 0.756212 | Val Acc: 0.748040 loss: 0.802963\n",
            "saving model with acc 0.748\n"
          ]
        },
        {
          "name": "stderr",
          "output_type": "stream",
          "text": [
            "100%|██████████| 1059/1059 [00:44<00:00, 23.88it/s]\n",
            "100%|██████████| 264/264 [00:05<00:00, 44.32it/s]\n",
            "  0%|          | 0/1059 [00:00<?, ?it/s]"
          ]
        },
        {
          "name": "stdout",
          "output_type": "stream",
          "text": [
            "[013/100] Train Acc: 0.762459 Loss: 0.742889 | Val Acc: 0.749937 loss: 0.796362\n",
            "saving model with acc 0.750\n"
          ]
        },
        {
          "name": "stderr",
          "output_type": "stream",
          "text": [
            "100%|██████████| 1059/1059 [00:44<00:00, 24.06it/s]\n",
            "100%|██████████| 264/264 [00:06<00:00, 43.67it/s]\n"
          ]
        },
        {
          "name": "stdout",
          "output_type": "stream",
          "text": [
            "[014/100] Train Acc: 0.765384 Loss: 0.731589 | Val Acc: 0.751212 loss: 0.795732\n"
          ]
        },
        {
          "name": "stderr",
          "output_type": "stream",
          "text": [
            "  0%|          | 0/1059 [00:00<?, ?it/s]"
          ]
        },
        {
          "name": "stdout",
          "output_type": "stream",
          "text": [
            "saving model with acc 0.751\n"
          ]
        },
        {
          "name": "stderr",
          "output_type": "stream",
          "text": [
            "100%|██████████| 1059/1059 [00:44<00:00, 23.86it/s]\n",
            "100%|██████████| 264/264 [00:05<00:00, 44.96it/s]\n"
          ]
        },
        {
          "name": "stdout",
          "output_type": "stream",
          "text": [
            "[015/100] Train Acc: 0.768526 Loss: 0.721783 | Val Acc: 0.751636 loss: 0.797662\n"
          ]
        },
        {
          "name": "stderr",
          "output_type": "stream",
          "text": [
            "  0%|          | 0/1059 [00:00<?, ?it/s]"
          ]
        },
        {
          "name": "stdout",
          "output_type": "stream",
          "text": [
            "saving model with acc 0.752\n"
          ]
        },
        {
          "name": "stderr",
          "output_type": "stream",
          "text": [
            "100%|██████████| 1059/1059 [00:44<00:00, 24.03it/s]\n",
            "100%|██████████| 264/264 [00:06<00:00, 43.46it/s]\n",
            "  0%|          | 0/1059 [00:00<?, ?it/s]"
          ]
        },
        {
          "name": "stdout",
          "output_type": "stream",
          "text": [
            "[016/100] Train Acc: 0.771269 Loss: 0.712137 | Val Acc: 0.752547 loss: 0.792877\n",
            "saving model with acc 0.753\n"
          ]
        },
        {
          "name": "stderr",
          "output_type": "stream",
          "text": [
            "100%|██████████| 1059/1059 [00:43<00:00, 24.13it/s]\n",
            "100%|██████████| 264/264 [00:05<00:00, 44.50it/s]\n",
            "  0%|          | 0/1059 [00:00<?, ?it/s]"
          ]
        },
        {
          "name": "stdout",
          "output_type": "stream",
          "text": [
            "[017/100] Train Acc: 0.773588 Loss: 0.703622 | Val Acc: 0.753415 loss: 0.791944\n",
            "saving model with acc 0.753\n"
          ]
        },
        {
          "name": "stderr",
          "output_type": "stream",
          "text": [
            "100%|██████████| 1059/1059 [00:44<00:00, 23.90it/s]\n",
            "100%|██████████| 264/264 [00:05<00:00, 45.20it/s]\n",
            "  0%|          | 0/1059 [00:00<?, ?it/s]"
          ]
        },
        {
          "name": "stdout",
          "output_type": "stream",
          "text": [
            "[018/100] Train Acc: 0.775790 Loss: 0.695385 | Val Acc: 0.754624 loss: 0.791611\n",
            "saving model with acc 0.755\n"
          ]
        },
        {
          "name": "stderr",
          "output_type": "stream",
          "text": [
            "100%|██████████| 1059/1059 [00:44<00:00, 24.06it/s]\n",
            "100%|██████████| 264/264 [00:05<00:00, 44.79it/s]\n"
          ]
        },
        {
          "name": "stdout",
          "output_type": "stream",
          "text": [
            "[019/100] Train Acc: 0.778169 Loss: 0.688268 | Val Acc: 0.754717 loss: 0.790501\n"
          ]
        },
        {
          "name": "stderr",
          "output_type": "stream",
          "text": [
            "  0%|          | 0/1059 [00:00<?, ?it/s]"
          ]
        },
        {
          "name": "stdout",
          "output_type": "stream",
          "text": [
            "saving model with acc 0.755\n"
          ]
        },
        {
          "name": "stderr",
          "output_type": "stream",
          "text": [
            "100%|██████████| 1059/1059 [00:43<00:00, 24.17it/s]\n",
            "100%|██████████| 264/264 [00:05<00:00, 44.35it/s]\n",
            "  0%|          | 0/1059 [00:00<?, ?it/s]"
          ]
        },
        {
          "name": "stdout",
          "output_type": "stream",
          "text": [
            "[020/100] Train Acc: 0.780149 Loss: 0.680861 | Val Acc: 0.756043 loss: 0.788258\n",
            "saving model with acc 0.756\n"
          ]
        },
        {
          "name": "stderr",
          "output_type": "stream",
          "text": [
            "100%|██████████| 1059/1059 [00:43<00:00, 24.25it/s]\n",
            "100%|██████████| 264/264 [00:05<00:00, 45.52it/s]\n",
            "  0%|          | 1/1059 [00:00<03:13,  5.47it/s]"
          ]
        },
        {
          "name": "stdout",
          "output_type": "stream",
          "text": [
            "[021/100] Train Acc: 0.782232 Loss: 0.674951 | Val Acc: 0.755848 loss: 0.788421\n"
          ]
        },
        {
          "name": "stderr",
          "output_type": "stream",
          "text": [
            "100%|██████████| 1059/1059 [00:44<00:00, 23.96it/s]\n",
            "100%|██████████| 264/264 [00:05<00:00, 45.06it/s]\n"
          ]
        },
        {
          "name": "stdout",
          "output_type": "stream",
          "text": [
            "[022/100] Train Acc: 0.783564 Loss: 0.668796 | Val Acc: 0.757131 loss: 0.787343\n"
          ]
        },
        {
          "name": "stderr",
          "output_type": "stream",
          "text": [
            "  0%|          | 0/1059 [00:00<?, ?it/s]"
          ]
        },
        {
          "name": "stdout",
          "output_type": "stream",
          "text": [
            "saving model with acc 0.757\n"
          ]
        },
        {
          "name": "stderr",
          "output_type": "stream",
          "text": [
            "100%|██████████| 1059/1059 [00:43<00:00, 24.11it/s]\n",
            "100%|██████████| 264/264 [00:05<00:00, 45.10it/s]\n",
            "  0%|          | 0/1059 [00:00<?, ?it/s]"
          ]
        },
        {
          "name": "stdout",
          "output_type": "stream",
          "text": [
            "[023/100] Train Acc: 0.784960 Loss: 0.664400 | Val Acc: 0.756848 loss: 0.784336\n"
          ]
        },
        {
          "name": "stderr",
          "output_type": "stream",
          "text": [
            "100%|██████████| 1059/1059 [00:44<00:00, 23.96it/s]\n",
            "100%|██████████| 264/264 [00:05<00:00, 44.43it/s]\n",
            "  0%|          | 0/1059 [00:00<?, ?it/s]"
          ]
        },
        {
          "name": "stdout",
          "output_type": "stream",
          "text": [
            "[024/100] Train Acc: 0.786883 Loss: 0.658336 | Val Acc: 0.758322 loss: 0.783544\n",
            "saving model with acc 0.758\n"
          ]
        },
        {
          "name": "stderr",
          "output_type": "stream",
          "text": [
            "100%|██████████| 1059/1059 [00:43<00:00, 24.10it/s]\n",
            "100%|██████████| 264/264 [00:05<00:00, 44.15it/s]\n",
            "  0%|          | 1/1059 [00:00<03:06,  5.68it/s]"
          ]
        },
        {
          "name": "stdout",
          "output_type": "stream",
          "text": [
            "[025/100] Train Acc: 0.787900 Loss: 0.654127 | Val Acc: 0.757606 loss: 0.783276\n"
          ]
        },
        {
          "name": "stderr",
          "output_type": "stream",
          "text": [
            "100%|██████████| 1059/1059 [00:43<00:00, 24.25it/s]\n",
            "100%|██████████| 264/264 [00:05<00:00, 44.86it/s]\n"
          ]
        },
        {
          "name": "stdout",
          "output_type": "stream",
          "text": [
            "[026/100] Train Acc: 0.789625 Loss: 0.648404 | Val Acc: 0.758626 loss: 0.782047\n"
          ]
        },
        {
          "name": "stderr",
          "output_type": "stream",
          "text": [
            "  0%|          | 0/1059 [00:00<?, ?it/s]"
          ]
        },
        {
          "name": "stdout",
          "output_type": "stream",
          "text": [
            "saving model with acc 0.759\n"
          ]
        },
        {
          "name": "stderr",
          "output_type": "stream",
          "text": [
            "100%|██████████| 1059/1059 [00:44<00:00, 24.05it/s]\n",
            "100%|██████████| 264/264 [00:06<00:00, 43.72it/s]\n",
            "  0%|          | 0/1059 [00:00<?, ?it/s]"
          ]
        },
        {
          "name": "stdout",
          "output_type": "stream",
          "text": [
            "[027/100] Train Acc: 0.790389 Loss: 0.644710 | Val Acc: 0.758211 loss: 0.783991\n"
          ]
        },
        {
          "name": "stderr",
          "output_type": "stream",
          "text": [
            "100%|██████████| 1059/1059 [00:43<00:00, 24.28it/s]\n",
            "100%|██████████| 264/264 [00:05<00:00, 44.08it/s]\n",
            "  0%|          | 0/1059 [00:00<?, ?it/s]"
          ]
        },
        {
          "name": "stdout",
          "output_type": "stream",
          "text": [
            "[028/100] Train Acc: 0.791703 Loss: 0.640220 | Val Acc: 0.759209 loss: 0.782918\n",
            "saving model with acc 0.759\n"
          ]
        },
        {
          "name": "stderr",
          "output_type": "stream",
          "text": [
            "100%|██████████| 1059/1059 [00:44<00:00, 23.71it/s]\n",
            "100%|██████████| 264/264 [00:05<00:00, 45.74it/s]\n",
            "  0%|          | 0/1059 [00:00<?, ?it/s]"
          ]
        },
        {
          "name": "stdout",
          "output_type": "stream",
          "text": [
            "[029/100] Train Acc: 0.792868 Loss: 0.636594 | Val Acc: 0.759069 loss: 0.786118\n"
          ]
        },
        {
          "name": "stderr",
          "output_type": "stream",
          "text": [
            "100%|██████████| 1059/1059 [00:43<00:00, 24.22it/s]\n",
            "100%|██████████| 264/264 [00:06<00:00, 43.65it/s]\n",
            "  0%|          | 1/1059 [00:00<03:17,  5.36it/s]"
          ]
        },
        {
          "name": "stdout",
          "output_type": "stream",
          "text": [
            "[030/100] Train Acc: 0.793871 Loss: 0.632313 | Val Acc: 0.758806 loss: 0.789387\n"
          ]
        },
        {
          "name": "stderr",
          "output_type": "stream",
          "text": [
            "100%|██████████| 1059/1059 [00:43<00:00, 24.25it/s]\n",
            "100%|██████████| 264/264 [00:06<00:00, 43.59it/s]\n"
          ]
        },
        {
          "name": "stdout",
          "output_type": "stream",
          "text": [
            "[031/100] Train Acc: 0.795216 Loss: 0.629538 | Val Acc: 0.759759 loss: 0.782361\n"
          ]
        },
        {
          "name": "stderr",
          "output_type": "stream",
          "text": [
            "  0%|          | 0/1059 [00:00<?, ?it/s]"
          ]
        },
        {
          "name": "stdout",
          "output_type": "stream",
          "text": [
            "saving model with acc 0.760\n"
          ]
        },
        {
          "name": "stderr",
          "output_type": "stream",
          "text": [
            "100%|██████████| 1059/1059 [00:43<00:00, 24.09it/s]\n",
            "100%|██████████| 264/264 [00:05<00:00, 44.14it/s]\n"
          ]
        },
        {
          "name": "stdout",
          "output_type": "stream",
          "text": [
            "[032/100] Train Acc: 0.796202 Loss: 0.625669 | Val Acc: 0.760033 loss: 0.783741\n"
          ]
        },
        {
          "name": "stderr",
          "output_type": "stream",
          "text": [
            "  0%|          | 0/1059 [00:00<?, ?it/s]"
          ]
        },
        {
          "name": "stdout",
          "output_type": "stream",
          "text": [
            "saving model with acc 0.760\n"
          ]
        },
        {
          "name": "stderr",
          "output_type": "stream",
          "text": [
            "100%|██████████| 1059/1059 [00:43<00:00, 24.22it/s]\n",
            "100%|██████████| 264/264 [00:06<00:00, 43.90it/s]\n",
            "  0%|          | 0/1059 [00:00<?, ?it/s]"
          ]
        },
        {
          "name": "stdout",
          "output_type": "stream",
          "text": [
            "[033/100] Train Acc: 0.796772 Loss: 0.622803 | Val Acc: 0.760683 loss: 0.784493\n",
            "saving model with acc 0.761\n"
          ]
        },
        {
          "name": "stderr",
          "output_type": "stream",
          "text": [
            "100%|██████████| 1059/1059 [00:44<00:00, 24.06it/s]\n",
            "100%|██████████| 264/264 [00:05<00:00, 45.17it/s]\n",
            "  0%|          | 0/1059 [00:00<?, ?it/s]"
          ]
        },
        {
          "name": "stdout",
          "output_type": "stream",
          "text": [
            "[034/100] Train Acc: 0.798068 Loss: 0.618820 | Val Acc: 0.760081 loss: 0.787292\n"
          ]
        },
        {
          "name": "stderr",
          "output_type": "stream",
          "text": [
            "100%|██████████| 1059/1059 [00:43<00:00, 24.11it/s]\n",
            "100%|██████████| 264/264 [00:05<00:00, 44.12it/s]\n"
          ]
        },
        {
          "name": "stdout",
          "output_type": "stream",
          "text": [
            "[035/100] Train Acc: 0.798623 Loss: 0.616314 | Val Acc: 0.760736 loss: 0.781970\n"
          ]
        },
        {
          "name": "stderr",
          "output_type": "stream",
          "text": [
            "  0%|          | 0/1059 [00:00<?, ?it/s]"
          ]
        },
        {
          "name": "stdout",
          "output_type": "stream",
          "text": [
            "saving model with acc 0.761\n"
          ]
        },
        {
          "name": "stderr",
          "output_type": "stream",
          "text": [
            "100%|██████████| 1059/1059 [00:43<00:00, 24.08it/s]\n",
            "100%|██████████| 264/264 [00:05<00:00, 44.86it/s]\n",
            "  0%|          | 0/1059 [00:00<?, ?it/s]"
          ]
        },
        {
          "name": "stdout",
          "output_type": "stream",
          "text": [
            "[036/100] Train Acc: 0.799431 Loss: 0.613143 | Val Acc: 0.761794 loss: 0.784301\n",
            "saving model with acc 0.762\n"
          ]
        },
        {
          "name": "stderr",
          "output_type": "stream",
          "text": [
            "100%|██████████| 1059/1059 [00:43<00:00, 24.13it/s]\n",
            "100%|██████████| 264/264 [00:05<00:00, 45.73it/s]\n",
            "  0%|          | 1/1059 [00:00<03:15,  5.40it/s]"
          ]
        },
        {
          "name": "stdout",
          "output_type": "stream",
          "text": [
            "[037/100] Train Acc: 0.800384 Loss: 0.610410 | Val Acc: 0.760691 loss: 0.786454\n"
          ]
        },
        {
          "name": "stderr",
          "output_type": "stream",
          "text": [
            "100%|██████████| 1059/1059 [00:43<00:00, 24.22it/s]\n",
            "100%|██████████| 264/264 [00:06<00:00, 43.96it/s]\n",
            "  0%|          | 0/1059 [00:00<?, ?it/s]"
          ]
        },
        {
          "name": "stdout",
          "output_type": "stream",
          "text": [
            "[038/100] Train Acc: 0.801291 Loss: 0.607582 | Val Acc: 0.760655 loss: 0.786533\n"
          ]
        },
        {
          "name": "stderr",
          "output_type": "stream",
          "text": [
            "100%|██████████| 1059/1059 [00:43<00:00, 24.08it/s]\n",
            "100%|██████████| 264/264 [00:05<00:00, 44.04it/s]\n",
            "  0%|          | 1/1059 [00:00<03:19,  5.31it/s]"
          ]
        },
        {
          "name": "stdout",
          "output_type": "stream",
          "text": [
            "[039/100] Train Acc: 0.801773 Loss: 0.605306 | Val Acc: 0.761504 loss: 0.785797\n"
          ]
        },
        {
          "name": "stderr",
          "output_type": "stream",
          "text": [
            "100%|██████████| 1059/1059 [00:43<00:00, 24.09it/s]\n",
            "100%|██████████| 264/264 [00:06<00:00, 43.23it/s]"
          ]
        },
        {
          "name": "stdout",
          "output_type": "stream",
          "text": [
            "[040/100] Train Acc: 0.802698 Loss: 0.602654 | Val Acc: 0.760657 loss: 0.791072\n",
            "\n",
            "Model is not improving, so we halt the training session.\n"
          ]
        },
        {
          "name": "stderr",
          "output_type": "stream",
          "text": [
            "\n"
          ]
        }
      ],
      "source": [
        "best_acc = 0.0\n",
        "early_stop_count = 0\n",
        "for epoch in range(num_epoch):\n",
        "    train_acc = 0.0\n",
        "    train_loss = 0.0\n",
        "    val_acc = 0.0\n",
        "    val_loss = 0.0\n",
        "    \n",
        "    # training\n",
        "    model.train() # set the model to training mode\n",
        "    for i, batch in enumerate(tqdm(train_loader)):\n",
        "        features, labels = batch\n",
        "        features = features.to(device)\n",
        "        labels = labels.to(device)\n",
        "        \n",
        "        optimizer.zero_grad() \n",
        "        outputs = model(features) \n",
        "        \n",
        "        loss = criterion(outputs, labels)\n",
        "        loss.backward() \n",
        "        optimizer.step() \n",
        "        \n",
        "        _, train_pred = torch.max(outputs, 1) # get the index of the class with the highest probability\n",
        "        train_acc += (train_pred.detach() == labels.detach()).sum().item()\n",
        "        train_loss += loss.item()\n",
        "    \n",
        "    # validation\n",
        "    if len(val_set) > 0:\n",
        "        model.eval() # set the model to evaluation mode\n",
        "        with torch.no_grad():\n",
        "            for i, batch in enumerate(tqdm(val_loader)):\n",
        "                features, labels = batch\n",
        "                features = features.to(device)\n",
        "                labels = labels.to(device)\n",
        "                outputs = model(features)\n",
        "                \n",
        "                loss = criterion(outputs, labels) \n",
        "                \n",
        "                _, val_pred = torch.max(outputs, 1) \n",
        "                val_acc += (val_pred.cpu() == labels.cpu()).sum().item() # get the index of the class with the highest probability\n",
        "                val_loss += loss.item()\n",
        "\n",
        "            print('[{:03d}/{:03d}] Train Acc: {:3.6f} Loss: {:3.6f} | Val Acc: {:3.6f} loss: {:3.6f}'.format(\n",
        "                epoch + 1, num_epoch, train_acc/len(train_set), train_loss/len(train_loader), val_acc/len(val_set), val_loss/len(val_loader)\n",
        "            ))\n",
        "\n",
        "            # if the model improves, save a checkpoint at this epoch\n",
        "            if val_acc > best_acc:\n",
        "                best_acc = val_acc\n",
        "                torch.save(model.state_dict(), model_path)\n",
        "                print('saving model with acc {:.3f}'.format(best_acc/len(val_set)))\n",
        "                \n",
        "            elif val_acc < best_acc:\n",
        "                early_stop_count+=1\n",
        "                \n",
        "    else:\n",
        "        print('[{:03d}/{:03d}] Train Acc: {:3.6f} Loss: {:3.6f}'.format(\n",
        "            epoch + 1, num_epoch, train_acc/len(train_set), train_loss/len(train_loader)\n",
        "        ))\n",
        "        \n",
        "    if early_stop_count > early_stop_setting:\n",
        "        print('\\nModel is not improving, so we halt the training session.')\n",
        "        break\n",
        "\n",
        "# if not validating, save the last epoch\n",
        "if len(val_set) == 0:\n",
        "    torch.save(model.state_dict(), model_path)\n",
        "    print('saving model at last epoch')\n"
      ]
    },
    {
      "cell_type": "code",
      "execution_count": 95,
      "metadata": {
        "colab": {
          "base_uri": "https://localhost:8080/"
        },
        "id": "ab33MxosWLmG",
        "outputId": "7ea97815-15cc-4afa-fa7e-b65460b91640"
      },
      "outputs": [
        {
          "data": {
            "text/plain": [
              "49"
            ]
          },
          "execution_count": 95,
          "metadata": {},
          "output_type": "execute_result"
        }
      ],
      "source": [
        "del train_loader, val_loader\n",
        "gc.collect()"
      ]
    },
    {
      "cell_type": "markdown",
      "metadata": {
        "id": "1Hi7jTn3PX-m"
      },
      "source": [
        "## Testing\n",
        "Create a testing dataset, and load model from the saved checkpoint."
      ]
    },
    {
      "cell_type": "code",
      "execution_count": 96,
      "metadata": {
        "colab": {
          "base_uri": "https://localhost:8080/"
        },
        "id": "VOG1Ou0PGrhc",
        "outputId": "81077fbc-a6ea-46b7-9a57-a690480fbb6b"
      },
      "outputs": [
        {
          "name": "stderr",
          "output_type": "stream",
          "text": [
            "33it [00:00, 324.17it/s]"
          ]
        },
        {
          "name": "stdout",
          "output_type": "stream",
          "text": [
            "[Dataset] - # phone classes: 41, number of utterances for test: 1078\n"
          ]
        },
        {
          "name": "stderr",
          "output_type": "stream",
          "text": [
            "1078it [00:02, 391.79it/s]"
          ]
        },
        {
          "name": "stdout",
          "output_type": "stream",
          "text": [
            "[INFO] test set\n",
            "torch.Size([646268, 1209])\n"
          ]
        },
        {
          "name": "stderr",
          "output_type": "stream",
          "text": [
            "\n"
          ]
        }
      ],
      "source": [
        "# load data\n",
        "test_X = preprocess_data(split='test', feat_dir='./libriphone/feat', phone_path='./libriphone', concat_nframes=concat_nframes)\n",
        "test_set = LibriDataset(test_X, None)\n",
        "test_loader = DataLoader(test_set, batch_size=batch_size, shuffle=False)"
      ]
    },
    {
      "cell_type": "code",
      "execution_count": 97,
      "metadata": {
        "colab": {
          "base_uri": "https://localhost:8080/"
        },
        "id": "ay0Fu8Ovkdad",
        "outputId": "a29d1dbc-3222-4cec-8f84-04475b77cceb"
      },
      "outputs": [
        {
          "data": {
            "text/plain": [
              "<All keys matched successfully>"
            ]
          },
          "execution_count": 97,
          "metadata": {},
          "output_type": "execute_result"
        }
      ],
      "source": [
        "# load model\n",
        "model = Classifier(input_dim=input_dim, hidden_layers=hidden_layers, hidden_dim=hidden_dim).to(device)\n",
        "model.load_state_dict(torch.load(model_path))"
      ]
    },
    {
      "cell_type": "markdown",
      "metadata": {
        "id": "zp-DV1p4r7Nz"
      },
      "source": [
        "Make prediction."
      ]
    },
    {
      "cell_type": "code",
      "execution_count": 98,
      "metadata": {
        "colab": {
          "base_uri": "https://localhost:8080/"
        },
        "id": "84HU5GGjPqR0",
        "outputId": "bbaaa8c5-d88c-4ef3-f7be-d75b208cd5df"
      },
      "outputs": [
        {
          "name": "stderr",
          "output_type": "stream",
          "text": [
            "100%|██████████| 324/324 [00:04<00:00, 69.60it/s]\n"
          ]
        }
      ],
      "source": [
        "test_acc = 0.0\n",
        "test_lengths = 0\n",
        "pred = np.array([], dtype=np.int32)\n",
        "\n",
        "model.eval()\n",
        "with torch.no_grad():\n",
        "    for i, batch in enumerate(tqdm(test_loader)):\n",
        "        features = batch\n",
        "        features = features.to(device)\n",
        "\n",
        "        outputs = model(features)\n",
        "\n",
        "        _, test_pred = torch.max(outputs, 1) # get the index of the class with the highest probability\n",
        "        pred = np.concatenate((pred, test_pred.cpu().numpy()), axis=0)\n"
      ]
    },
    {
      "cell_type": "markdown",
      "metadata": {
        "id": "wyZqy40Prz0v"
      },
      "source": [
        "Write prediction to a CSV file.\n",
        "\n",
        "After finish running this block, download the file `prediction.csv` from the files section on the left-hand side and submit it to Kaggle."
      ]
    },
    {
      "cell_type": "code",
      "execution_count": 99,
      "metadata": {
        "id": "GuljYSPHcZir"
      },
      "outputs": [],
      "source": [
        "with open('prediction.csv', 'w') as f:\n",
        "    f.write('Id,Class\\n')\n",
        "    for i, y in enumerate(pred):\n",
        "        f.write('{},{}\\n'.format(i, y))"
      ]
    },
    {
      "cell_type": "code",
      "execution_count": null,
      "metadata": {},
      "outputs": [],
      "source": []
    },
    {
      "cell_type": "code",
      "execution_count": null,
      "metadata": {},
      "outputs": [],
      "source": []
    },
    {
      "cell_type": "code",
      "execution_count": null,
      "metadata": {},
      "outputs": [],
      "source": []
    }
  ],
  "metadata": {
    "accelerator": "GPU",
    "colab": {
      "collapsed_sections": [],
      "name": "ML2022Spring - HW2.ipynb",
      "provenance": []
    },
    "kernelspec": {
      "display_name": "Python 3",
      "name": "python3"
    },
    "language_info": {
      "codemirror_mode": {
        "name": "ipython",
        "version": 3
      },
      "file_extension": ".py",
      "mimetype": "text/x-python",
      "name": "python",
      "nbconvert_exporter": "python",
      "pygments_lexer": "ipython3",
      "version": "3.8.8"
    }
  },
  "nbformat": 4,
  "nbformat_minor": 0
}
