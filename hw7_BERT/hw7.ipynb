{
  "cells": [
    {
      "cell_type": "markdown",
      "id": "73a4e4d8",
      "metadata": {
        "id": "73a4e4d8",
        "papermill": {
          "duration": 0.021914,
          "end_time": "2022-04-18T02:27:54.270623",
          "exception": false,
          "start_time": "2022-04-18T02:27:54.248709",
          "status": "completed"
        },
        "tags": []
      },
      "source": [
        "# **Homework 7 - Bert (Question Answering)**\n",
        "\n",
        "If you have any questions, feel free to email us at mlta-2022-spring@googlegroups.com\n",
        "\n",
        "\n",
        "\n",
        "Slide:    [Link](https://docs.google.com/presentation/d/1H5ZONrb2LMOCixLY7D5_5-7LkIaXO6AGEaV2mRdTOMY/edit?usp=sharing)　Kaggle: [Link](https://www.kaggle.com/c/ml2022spring-hw7)　Data: [Link](https://drive.google.com/uc?id=1AVgZvy3VFeg0fX-6WQJMHPVrx3A-M1kb)\n",
        "\n",
        "\n"
      ]
    },
    {
      "cell_type": "markdown",
      "id": "40d8cd7b",
      "metadata": {
        "id": "40d8cd7b",
        "papermill": {
          "duration": 0.020833,
          "end_time": "2022-04-18T02:27:54.314118",
          "exception": false,
          "start_time": "2022-04-18T02:27:54.293285",
          "status": "completed"
        },
        "tags": []
      },
      "source": [
        "## Task description\n",
        "- Chinese Extractive Question Answering\n",
        "  - Input: Paragraph + Question\n",
        "  - Output: Answer\n",
        "\n",
        "- Objective: Learn how to fine tune a pretrained model on downstream task using transformers\n",
        "\n",
        "- Todo\n",
        "    - Fine tune a pretrained chinese BERT model\n",
        "    - Change hyperparameters (e.g. doc_stride)\n",
        "    - Apply linear learning rate decay\n",
        "    - Try other pretrained models\n",
        "    - Improve preprocessing\n",
        "    - Improve postprocessing\n",
        "- Training tips\n",
        "    - Automatic mixed precision\n",
        "    - Gradient accumulation\n",
        "    - Ensemble\n",
        "\n",
        "- Estimated training time (tesla t4 with automatic mixed precision enabled)\n",
        "    - Simple: 8mins\n",
        "    - Medium: 8mins\n",
        "    - Strong: 25mins\n",
        "    - Boss: 2.5hrs\n",
        "  "
      ]
    },
    {
      "cell_type": "markdown",
      "id": "15ffe89e",
      "metadata": {
        "id": "15ffe89e",
        "papermill": {
          "duration": 0.020173,
          "end_time": "2022-04-18T02:27:54.354906",
          "exception": false,
          "start_time": "2022-04-18T02:27:54.334733",
          "status": "completed"
        },
        "tags": []
      },
      "source": [
        "## Download Dataset"
      ]
    },
    {
      "cell_type": "code",
      "execution_count": null,
      "id": "51d57f27",
      "metadata": {
        "execution": {
          "iopub.execute_input": "2022-04-18T02:27:54.401773Z",
          "iopub.status.busy": "2022-04-18T02:27:54.400256Z",
          "iopub.status.idle": "2022-04-18T02:27:54.426816Z",
          "shell.execute_reply": "2022-04-18T02:27:54.427446Z",
          "shell.execute_reply.started": "2022-04-17T18:23:50.161241Z"
        },
        "papermill": {
          "duration": 0.052304,
          "end_time": "2022-04-18T02:27:54.427768",
          "exception": false,
          "start_time": "2022-04-18T02:27:54.375464",
          "status": "completed"
        },
        "tags": [],
        "id": "51d57f27",
        "outputId": "bd259d00-99e3-427a-967a-8bd0a099d47e"
      },
      "outputs": [
        {
          "name": "stdout",
          "output_type": "stream",
          "text": [
            "/kaggle/input/hw7-dataset/hw7_train.json\n",
            "/kaggle/input/hw7-dataset/hw7_dev.json\n",
            "/kaggle/input/hw7-dataset/hw7_test.json\n",
            "/kaggle/input/hw7-dataset/hw7_data/hw7_train.json\n",
            "/kaggle/input/hw7-dataset/hw7_data/hw7_dev.json\n",
            "/kaggle/input/hw7-dataset/hw7_data/hw7_test.json\n"
          ]
        }
      ],
      "source": [
        "# This Python 3 environment comes with many helpful analytics libraries installed\n",
        "# It is defined by the kaggle/python Docker image: https://github.com/kaggle/docker-python\n",
        "# For example, here's several helpful packages to load\n",
        "\n",
        "import numpy as np # linear algebra\n",
        "import pandas as pd # data processing, CSV file I/O (e.g. pd.read_csv)\n",
        "\n",
        "# Input data files are available in the read-only \"../input/\" directory\n",
        "# For example, running this (by clicking run or pressing Shift+Enter) will list all files under the input directory\n",
        "\n",
        "import os\n",
        "for dirname, _, filenames in os.walk('/kaggle/input'):\n",
        "    for filename in filenames:\n",
        "        print(os.path.join(dirname, filename))\n",
        "\n",
        "# You can write up to 20GB to the current directory (/kaggle/working/) that gets preserved as output when you create a version using \"Save & Run All\" \n",
        "# You can also write temporary files to /kaggle/temp/, but they won't be saved outside of the current session"
      ]
    },
    {
      "cell_type": "code",
      "execution_count": null,
      "id": "67ab68a0",
      "metadata": {
        "execution": {
          "iopub.execute_input": "2022-04-18T02:27:54.476747Z",
          "iopub.status.busy": "2022-04-18T02:27:54.475916Z",
          "iopub.status.idle": "2022-04-18T02:27:55.971487Z",
          "shell.execute_reply": "2022-04-18T02:27:55.972197Z"
        },
        "id": "67ab68a0",
        "outputId": "94ebd515-aa7a-42bc-cb9f-1967f8d6e574",
        "papermill": {
          "duration": 1.522305,
          "end_time": "2022-04-18T02:27:55.972400",
          "exception": false,
          "start_time": "2022-04-18T02:27:54.450095",
          "status": "completed"
        },
        "tags": []
      },
      "outputs": [
        {
          "name": "stdout",
          "output_type": "stream",
          "text": [
            "/bin/bash: gdown: command not found\r\n",
            "unzip:  cannot find or open hw7_data.zip, hw7_data.zip.zip or hw7_data.zip.ZIP.\r\n"
          ]
        }
      ],
      "source": [
        "# Download link 1\n",
        "!gdown --id '1AVgZvy3VFeg0fX-6WQJMHPVrx3A-M1kb' --output hw7_data.zip\n",
        "\n",
        "# Download Link 2 (if the above link fails) \n",
        "# !gdown --id '1qwjbRjq481lHsnTrrF4OjKQnxzgoLEFR' --output hw7_data.zip\n",
        "\n",
        "# Download Link 3 (if the above link fails) \n",
        "# !gdown --id '1QXuWjNRZH6DscSd6QcRER0cnxmpZvijn' --output hw7_data.zip\n",
        "\n",
        "!unzip -o hw7_data.zip"
      ]
    },
    {
      "cell_type": "code",
      "execution_count": null,
      "id": "62cb64cb",
      "metadata": {
        "execution": {
          "iopub.execute_input": "2022-04-18T02:27:56.027693Z",
          "iopub.status.busy": "2022-04-18T02:27:56.026682Z",
          "iopub.status.idle": "2022-04-18T02:27:56.778360Z",
          "shell.execute_reply": "2022-04-18T02:27:56.779171Z",
          "shell.execute_reply.started": "2022-04-17T18:21:40.586384Z"
        },
        "papermill": {
          "duration": 0.781814,
          "end_time": "2022-04-18T02:27:56.779433",
          "exception": false,
          "start_time": "2022-04-18T02:27:55.997619",
          "status": "completed"
        },
        "tags": [],
        "id": "62cb64cb",
        "outputId": "15fb237d-294e-4fcf-f1d8-7cf94cedd5cb"
      },
      "outputs": [
        {
          "name": "stdout",
          "output_type": "stream",
          "text": [
            "Mon Apr 18 02:27:56 2022       \r\n",
            "+-----------------------------------------------------------------------------+\r\n",
            "| NVIDIA-SMI 470.82.01    Driver Version: 470.82.01    CUDA Version: 11.4     |\r\n",
            "|-------------------------------+----------------------+----------------------+\r\n",
            "| GPU  Name        Persistence-M| Bus-Id        Disp.A | Volatile Uncorr. ECC |\r\n",
            "| Fan  Temp  Perf  Pwr:Usage/Cap|         Memory-Usage | GPU-Util  Compute M. |\r\n",
            "|                               |                      |               MIG M. |\r\n",
            "|===============================+======================+======================|\r\n",
            "|   0  Tesla P100-PCIE...  Off  | 00000000:00:04.0 Off |                    0 |\r\n",
            "| N/A   33C    P0    25W / 250W |      0MiB / 16280MiB |      0%      Default |\r\n",
            "|                               |                      |                  N/A |\r\n",
            "+-------------------------------+----------------------+----------------------+\r\n",
            "                                                                               \r\n",
            "+-----------------------------------------------------------------------------+\r\n",
            "| Processes:                                                                  |\r\n",
            "|  GPU   GI   CI        PID   Type   Process name                  GPU Memory |\r\n",
            "|        ID   ID                                                   Usage      |\r\n",
            "|=============================================================================|\r\n",
            "|  No running processes found                                                 |\r\n",
            "+-----------------------------------------------------------------------------+\r\n"
          ]
        }
      ],
      "source": [
        "# For this HW, K80 < P4 < T4 < P100 <= T4(fp16) < V100\n",
        "!nvidia-smi"
      ]
    },
    {
      "cell_type": "markdown",
      "id": "884fbaca",
      "metadata": {
        "id": "884fbaca",
        "papermill": {
          "duration": 0.049366,
          "end_time": "2022-04-18T02:27:56.878212",
          "exception": false,
          "start_time": "2022-04-18T02:27:56.828846",
          "status": "completed"
        },
        "tags": []
      },
      "source": [
        "## Install transformers\n",
        "\n",
        "Documentation for the toolkit:　https://huggingface.co/transformers/"
      ]
    },
    {
      "cell_type": "code",
      "execution_count": null,
      "id": "a27e77eb",
      "metadata": {
        "execution": {
          "iopub.execute_input": "2022-04-18T02:27:56.981052Z",
          "iopub.status.busy": "2022-04-18T02:27:56.978475Z",
          "iopub.status.idle": "2022-04-18T02:28:11.625826Z",
          "shell.execute_reply": "2022-04-18T02:28:11.625332Z",
          "shell.execute_reply.started": "2022-04-17T18:21:41.295191Z"
        },
        "id": "a27e77eb",
        "outputId": "be462065-602a-45c7-820a-02a2fbbce0a7",
        "papermill": {
          "duration": 14.702648,
          "end_time": "2022-04-18T02:28:11.625964",
          "exception": false,
          "start_time": "2022-04-18T02:27:56.923316",
          "status": "completed"
        },
        "tags": []
      },
      "outputs": [
        {
          "name": "stdout",
          "output_type": "stream",
          "text": [
            "Collecting transformers==4.5.0\r\n",
            "  Downloading transformers-4.5.0-py3-none-any.whl (2.1 MB)\r\n",
            "     |████████████████████████████████| 2.1 MB 598 kB/s            \r\n",
            "\u001b[?25hRequirement already satisfied: requests in /opt/conda/lib/python3.7/site-packages (from transformers==4.5.0) (2.26.0)\r\n",
            "Requirement already satisfied: numpy>=1.17 in /opt/conda/lib/python3.7/site-packages (from transformers==4.5.0) (1.20.3)\r\n",
            "Requirement already satisfied: packaging in /opt/conda/lib/python3.7/site-packages (from transformers==4.5.0) (21.3)\r\n",
            "Requirement already satisfied: tqdm>=4.27 in /opt/conda/lib/python3.7/site-packages (from transformers==4.5.0) (4.62.3)\r\n",
            "Requirement already satisfied: filelock in /opt/conda/lib/python3.7/site-packages (from transformers==4.5.0) (3.6.0)\r\n",
            "Requirement already satisfied: importlib-metadata in /opt/conda/lib/python3.7/site-packages (from transformers==4.5.0) (4.11.3)\r\n",
            "Collecting tokenizers<0.11,>=0.10.1\r\n",
            "  Downloading tokenizers-0.10.3-cp37-cp37m-manylinux_2_5_x86_64.manylinux1_x86_64.manylinux_2_12_x86_64.manylinux2010_x86_64.whl (3.3 MB)\r\n",
            "     |████████████████████████████████| 3.3 MB 33.7 MB/s            \r\n",
            "\u001b[?25hRequirement already satisfied: sacremoses in /opt/conda/lib/python3.7/site-packages (from transformers==4.5.0) (0.0.49)\r\n",
            "Requirement already satisfied: regex!=2019.12.17 in /opt/conda/lib/python3.7/site-packages (from transformers==4.5.0) (2021.11.10)\r\n",
            "Requirement already satisfied: typing-extensions>=3.6.4 in /opt/conda/lib/python3.7/site-packages (from importlib-metadata->transformers==4.5.0) (4.1.1)\r\n",
            "Requirement already satisfied: zipp>=0.5 in /opt/conda/lib/python3.7/site-packages (from importlib-metadata->transformers==4.5.0) (3.6.0)\r\n",
            "Requirement already satisfied: pyparsing!=3.0.5,>=2.0.2 in /opt/conda/lib/python3.7/site-packages (from packaging->transformers==4.5.0) (3.0.6)\r\n",
            "Requirement already satisfied: urllib3<1.27,>=1.21.1 in /opt/conda/lib/python3.7/site-packages (from requests->transformers==4.5.0) (1.26.7)\r\n",
            "Requirement already satisfied: idna<4,>=2.5 in /opt/conda/lib/python3.7/site-packages (from requests->transformers==4.5.0) (3.1)\r\n",
            "Requirement already satisfied: charset-normalizer~=2.0.0 in /opt/conda/lib/python3.7/site-packages (from requests->transformers==4.5.0) (2.0.9)\r\n",
            "Requirement already satisfied: certifi>=2017.4.17 in /opt/conda/lib/python3.7/site-packages (from requests->transformers==4.5.0) (2021.10.8)\r\n",
            "Requirement already satisfied: joblib in /opt/conda/lib/python3.7/site-packages (from sacremoses->transformers==4.5.0) (1.1.0)\r\n",
            "Requirement already satisfied: six in /opt/conda/lib/python3.7/site-packages (from sacremoses->transformers==4.5.0) (1.16.0)\r\n",
            "Requirement already satisfied: click in /opt/conda/lib/python3.7/site-packages (from sacremoses->transformers==4.5.0) (8.0.3)\r\n",
            "Installing collected packages: tokenizers, transformers\r\n",
            "  Attempting uninstall: tokenizers\r\n",
            "    Found existing installation: tokenizers 0.11.6\r\n",
            "    Uninstalling tokenizers-0.11.6:\r\n",
            "      Successfully uninstalled tokenizers-0.11.6\r\n",
            "  Attempting uninstall: transformers\r\n",
            "    Found existing installation: transformers 4.16.2\r\n",
            "    Uninstalling transformers-4.16.2:\r\n",
            "      Successfully uninstalled transformers-4.16.2\r\n",
            "Successfully installed tokenizers-0.10.3 transformers-4.5.0\r\n",
            "\u001b[33mWARNING: Running pip as the 'root' user can result in broken permissions and conflicting behaviour with the system package manager. It is recommended to use a virtual environment instead: https://pip.pypa.io/warnings/venv\u001b[0m\r\n"
          ]
        }
      ],
      "source": [
        "# You are allowed to change version of transformers or use other toolkits\n",
        "!pip3 install transformers==4.5.0"
      ]
    },
    {
      "cell_type": "markdown",
      "id": "e1a368bb",
      "metadata": {
        "id": "e1a368bb",
        "papermill": {
          "duration": 0.031496,
          "end_time": "2022-04-18T02:28:11.689628",
          "exception": false,
          "start_time": "2022-04-18T02:28:11.658132",
          "status": "completed"
        },
        "tags": []
      },
      "source": [
        "## Import Packages"
      ]
    },
    {
      "cell_type": "code",
      "execution_count": null,
      "id": "897336b2",
      "metadata": {
        "execution": {
          "iopub.execute_input": "2022-04-18T02:28:11.761462Z",
          "iopub.status.busy": "2022-04-18T02:28:11.760609Z",
          "iopub.status.idle": "2022-04-18T02:28:17.355794Z",
          "shell.execute_reply": "2022-04-18T02:28:17.354808Z",
          "shell.execute_reply.started": "2022-04-17T18:21:48.504673Z"
        },
        "id": "897336b2",
        "papermill": {
          "duration": 5.635176,
          "end_time": "2022-04-18T02:28:17.355950",
          "exception": false,
          "start_time": "2022-04-18T02:28:11.720774",
          "status": "completed"
        },
        "tags": []
      },
      "outputs": [],
      "source": [
        "import json\n",
        "import numpy as np\n",
        "import random\n",
        "import torch\n",
        "from torch.utils.data import DataLoader, Dataset \n",
        "from transformers import AdamW, BertForQuestionAnswering, BertTokenizerFast\n",
        "\n",
        "from tqdm.auto import tqdm\n",
        "\n",
        "device = \"cuda\" if torch.cuda.is_available() else \"cpu\"\n",
        "\n",
        "# Fix random seed for reproducibility\n",
        "def same_seeds(seed):\n",
        "\t  torch.manual_seed(seed)\n",
        "\t  if torch.cuda.is_available():\n",
        "\t\t    torch.cuda.manual_seed(seed)\n",
        "\t\t    torch.cuda.manual_seed_all(seed)\n",
        "\t  np.random.seed(seed)\n",
        "\t  random.seed(seed)\n",
        "\t  torch.backends.cudnn.benchmark = False\n",
        "\t  torch.backends.cudnn.deterministic = True\n",
        "same_seeds(0)"
      ]
    },
    {
      "cell_type": "code",
      "execution_count": null,
      "id": "b1aa2ab0",
      "metadata": {
        "execution": {
          "iopub.execute_input": "2022-04-18T02:28:17.432606Z",
          "iopub.status.busy": "2022-04-18T02:28:17.430856Z",
          "iopub.status.idle": "2022-04-18T02:28:17.433226Z",
          "shell.execute_reply": "2022-04-18T02:28:17.433673Z",
          "shell.execute_reply.started": "2022-04-17T18:21:54.127297Z"
        },
        "id": "b1aa2ab0",
        "papermill": {
          "duration": 0.042505,
          "end_time": "2022-04-18T02:28:17.433810",
          "exception": false,
          "start_time": "2022-04-18T02:28:17.391305",
          "status": "completed"
        },
        "tags": []
      },
      "outputs": [],
      "source": [
        "# Change \"fp16_training\" to True to support automatic mixed precision training (fp16)\t\n",
        "fp16_training = False\n",
        "\n",
        "if fp16_training:\n",
        "    !pip3 install accelerate==0.2.0\n",
        "    from accelerate import Accelerator\n",
        "    accelerator = Accelerator(fp16=True)\n",
        "    device = accelerator.device\n",
        "\n",
        "# Documentation for the toolkit:  https://huggingface.co/docs/accelerate/"
      ]
    },
    {
      "cell_type": "markdown",
      "id": "124564a4",
      "metadata": {
        "id": "124564a4",
        "papermill": {
          "duration": 0.032602,
          "end_time": "2022-04-18T02:28:17.499315",
          "exception": false,
          "start_time": "2022-04-18T02:28:17.466713",
          "status": "completed"
        },
        "tags": []
      },
      "source": [
        "## Load Model and Tokenizer\n",
        "\n",
        "\n",
        "\n",
        "\n",
        " "
      ]
    },
    {
      "cell_type": "code",
      "execution_count": null,
      "id": "6a90827b",
      "metadata": {
        "execution": {
          "iopub.execute_input": "2022-04-18T02:28:17.571989Z",
          "iopub.status.busy": "2022-04-18T02:28:17.571095Z",
          "iopub.status.idle": "2022-04-18T02:29:24.688662Z",
          "shell.execute_reply": "2022-04-18T02:29:24.689668Z",
          "shell.execute_reply.started": "2022-04-17T18:21:54.628408Z"
        },
        "id": "6a90827b",
        "outputId": "565ce387-20fd-44de-8d03-c0b50d63c145",
        "papermill": {
          "duration": 67.158426,
          "end_time": "2022-04-18T02:29:24.689905",
          "exception": false,
          "start_time": "2022-04-18T02:28:17.531479",
          "status": "completed"
        },
        "tags": [],
        "colab": {
          "referenced_widgets": [
            "1b077d370b9e4d9fa0fe9dc5d3a54d04",
            "b705c489c45b404b9efc4febbd879b47",
            "43c3619f55f4441c8c51149798d5c1db",
            "adf1c6fbda4a4a22819d067c57e65285",
            "67fb343ae5394ad38ec77db0fc516266",
            "838444348b1b4a3f876d1048d28c68b9",
            "bb4603d8634f4d9f95271129fdf541ec"
          ]
        }
      },
      "outputs": [
        {
          "data": {
            "application/vnd.jupyter.widget-view+json": {
              "model_id": "1b077d370b9e4d9fa0fe9dc5d3a54d04",
              "version_major": 2,
              "version_minor": 0
            },
            "text/plain": [
              "Downloading:   0%|          | 0.00/660 [00:00<?, ?B/s]"
            ]
          },
          "metadata": {},
          "output_type": "display_data"
        },
        {
          "data": {
            "application/vnd.jupyter.widget-view+json": {
              "model_id": "b705c489c45b404b9efc4febbd879b47",
              "version_major": 2,
              "version_minor": 0
            },
            "text/plain": [
              "Downloading:   0%|          | 0.00/1.31G [00:00<?, ?B/s]"
            ]
          },
          "metadata": {},
          "output_type": "display_data"
        },
        {
          "name": "stderr",
          "output_type": "stream",
          "text": [
            "Some weights of the model checkpoint at hfl/chinese-macbert-large were not used when initializing BertForQuestionAnswering: ['cls.predictions.bias', 'cls.predictions.transform.dense.weight', 'cls.predictions.transform.dense.bias', 'cls.predictions.transform.LayerNorm.weight', 'cls.predictions.transform.LayerNorm.bias', 'cls.predictions.decoder.weight', 'cls.predictions.decoder.bias', 'cls.seq_relationship.weight', 'cls.seq_relationship.bias']\n",
            "- This IS expected if you are initializing BertForQuestionAnswering from the checkpoint of a model trained on another task or with another architecture (e.g. initializing a BertForSequenceClassification model from a BertForPreTraining model).\n",
            "- This IS NOT expected if you are initializing BertForQuestionAnswering from the checkpoint of a model that you expect to be exactly identical (initializing a BertForSequenceClassification model from a BertForSequenceClassification model).\n",
            "Some weights of BertForQuestionAnswering were not initialized from the model checkpoint at hfl/chinese-macbert-large and are newly initialized: ['qa_outputs.weight', 'qa_outputs.bias']\n",
            "You should probably TRAIN this model on a down-stream task to be able to use it for predictions and inference.\n"
          ]
        },
        {
          "data": {
            "application/vnd.jupyter.widget-view+json": {
              "model_id": "43c3619f55f4441c8c51149798d5c1db",
              "version_major": 2,
              "version_minor": 0
            },
            "text/plain": [
              "Downloading:   0%|          | 0.00/110k [00:00<?, ?B/s]"
            ]
          },
          "metadata": {},
          "output_type": "display_data"
        },
        {
          "data": {
            "application/vnd.jupyter.widget-view+json": {
              "model_id": "adf1c6fbda4a4a22819d067c57e65285",
              "version_major": 2,
              "version_minor": 0
            },
            "text/plain": [
              "Downloading:   0%|          | 0.00/269k [00:00<?, ?B/s]"
            ]
          },
          "metadata": {},
          "output_type": "display_data"
        },
        {
          "data": {
            "application/vnd.jupyter.widget-view+json": {
              "model_id": "67fb343ae5394ad38ec77db0fc516266",
              "version_major": 2,
              "version_minor": 0
            },
            "text/plain": [
              "Downloading:   0%|          | 0.00/2.00 [00:00<?, ?B/s]"
            ]
          },
          "metadata": {},
          "output_type": "display_data"
        },
        {
          "data": {
            "application/vnd.jupyter.widget-view+json": {
              "model_id": "838444348b1b4a3f876d1048d28c68b9",
              "version_major": 2,
              "version_minor": 0
            },
            "text/plain": [
              "Downloading:   0%|          | 0.00/112 [00:00<?, ?B/s]"
            ]
          },
          "metadata": {},
          "output_type": "display_data"
        },
        {
          "data": {
            "application/vnd.jupyter.widget-view+json": {
              "model_id": "bb4603d8634f4d9f95271129fdf541ec",
              "version_major": 2,
              "version_minor": 0
            },
            "text/plain": [
              "Downloading:   0%|          | 0.00/19.0 [00:00<?, ?B/s]"
            ]
          },
          "metadata": {},
          "output_type": "display_data"
        }
      ],
      "source": [
        "# model = BertForQuestionAnswering.from_pretrained(\"bert-base-chinese\").to(device)\n",
        "# tokenizer = BertTokenizerFast.from_pretrained(\"bert-base-chinese\")\n",
        "\n",
        "## [ARRANGE]\n",
        "model = BertForQuestionAnswering.from_pretrained(\"hfl/chinese-macbert-large\").to(device)\n",
        "tokenizer = BertTokenizerFast.from_pretrained(\"hfl/chinese-macbert-large\")\n",
        "\n",
        "\n",
        "# You can safely ignore the warning message (it pops up because new prediction heads for QA are initialized randomly)"
      ]
    },
    {
      "cell_type": "markdown",
      "id": "565461ce",
      "metadata": {
        "id": "565461ce",
        "papermill": {
          "duration": 0.069558,
          "end_time": "2022-04-18T02:29:24.830394",
          "exception": false,
          "start_time": "2022-04-18T02:29:24.760836",
          "status": "completed"
        },
        "tags": []
      },
      "source": [
        "## Read Data\n",
        "\n",
        "- Training set: 31690 QA pairs\n",
        "- Dev set: 4131  QA pairs\n",
        "- Test set: 4957  QA pairs\n",
        "\n",
        "- {train/dev/test}_questions:\t\n",
        "  - List of dicts with the following keys:\n",
        "   - id (int)\n",
        "   - paragraph_id (int)\n",
        "   - question_text (string)\n",
        "   - answer_text (string)\n",
        "   - answer_start (int)\n",
        "   - answer_end (int)\n",
        "- {train/dev/test}_paragraphs: \n",
        "  - List of strings\n",
        "  - paragraph_ids in questions correspond to indexs in paragraphs\n",
        "  - A paragraph may be used by several questions "
      ]
    },
    {
      "cell_type": "code",
      "execution_count": null,
      "id": "a2c3256f",
      "metadata": {
        "execution": {
          "iopub.execute_input": "2022-04-18T02:29:24.977018Z",
          "iopub.status.busy": "2022-04-18T02:29:24.975933Z",
          "iopub.status.idle": "2022-04-18T02:29:25.476913Z",
          "shell.execute_reply": "2022-04-18T02:29:25.476339Z",
          "shell.execute_reply.started": "2022-04-17T18:24:20.532169Z"
        },
        "id": "a2c3256f",
        "papermill": {
          "duration": 0.575749,
          "end_time": "2022-04-18T02:29:25.477069",
          "exception": false,
          "start_time": "2022-04-18T02:29:24.901320",
          "status": "completed"
        },
        "tags": []
      },
      "outputs": [],
      "source": [
        "def read_data(file):\n",
        "    with open(file, 'r', encoding=\"utf-8\") as reader:\n",
        "        data = json.load(reader)\n",
        "    return data[\"questions\"], data[\"paragraphs\"]\n",
        "\n",
        "train_questions, train_paragraphs = read_data(\"/kaggle/input/hw7-dataset/hw7_train.json\")\n",
        "dev_questions, dev_paragraphs = read_data(\"/kaggle/input/hw7-dataset/hw7_dev.json\")\n",
        "test_questions, test_paragraphs = read_data(\"/kaggle/input/hw7-dataset/hw7_test.json\")"
      ]
    },
    {
      "cell_type": "code",
      "execution_count": null,
      "id": "905901d2",
      "metadata": {
        "execution": {
          "iopub.execute_input": "2022-04-18T02:29:25.567010Z",
          "iopub.status.busy": "2022-04-18T02:29:25.565974Z",
          "iopub.status.idle": "2022-04-18T02:29:25.576509Z",
          "shell.execute_reply": "2022-04-18T02:29:25.575920Z",
          "shell.execute_reply.started": "2022-04-17T18:24:25.560907Z"
        },
        "id": "905901d2",
        "papermill": {
          "duration": 0.058984,
          "end_time": "2022-04-18T02:29:25.576645",
          "exception": false,
          "start_time": "2022-04-18T02:29:25.517661",
          "status": "completed"
        },
        "tags": [],
        "outputId": "6e1bb4c0-5f23-4690-b72a-2553ab0ee2d5"
      },
      "outputs": [
        {
          "name": "stdout",
          "output_type": "stream",
          "text": [
            "['✔']\n",
            "['●']\n",
            "['✦']\n",
            "['☺']\n",
            "['☆']\n"
          ]
        }
      ],
      "source": [
        "## [ARRANGE]\n",
        "print(tokenizer.tokenize('☆', add_special_tokens=False))\n",
        "print(tokenizer.tokenize('☺', add_special_tokens=False))\n",
        "print(tokenizer.tokenize('●', add_special_tokens=False))\n",
        "print(tokenizer.tokenize('✦', add_special_tokens=False))\n",
        "print(tokenizer.tokenize('✔', add_special_tokens=False))\n",
        "# 取代' ' \\u200b \\u200e \\u3000 是為了讓tokenize前後index一致 # 用✔ ● ✦ ☺ ☆ 當佔位符，沒有意義\n",
        "dev_paragraphs = [i.replace(' ','✔').replace('\\u200b','✦').replace('\\u200e', '☺').replace('\\u3000', '☆').replace('#','●') for i in dev_paragraphs]\n",
        "test_paragraphs = [i.replace(' ','✔').replace('\\u200b','✦').replace('\\u200e', '☺').replace('\\u3000', '☆').replace('#','●') for i in test_paragraphs]"
      ]
    },
    {
      "cell_type": "markdown",
      "id": "d40a3f4d",
      "metadata": {
        "id": "d40a3f4d",
        "papermill": {
          "duration": 0.039145,
          "end_time": "2022-04-18T02:29:25.655623",
          "exception": false,
          "start_time": "2022-04-18T02:29:25.616478",
          "status": "completed"
        },
        "tags": []
      },
      "source": [
        "## Tokenize Data"
      ]
    },
    {
      "cell_type": "code",
      "execution_count": null,
      "id": "6ea56b06",
      "metadata": {
        "execution": {
          "iopub.execute_input": "2022-04-18T02:29:25.758050Z",
          "iopub.status.busy": "2022-04-18T02:29:25.757061Z",
          "iopub.status.idle": "2022-04-18T02:29:39.805153Z",
          "shell.execute_reply": "2022-04-18T02:29:39.804633Z",
          "shell.execute_reply.started": "2022-04-17T18:24:28.180205Z"
        },
        "id": "6ea56b06",
        "papermill": {
          "duration": 14.110359,
          "end_time": "2022-04-18T02:29:39.805288",
          "exception": false,
          "start_time": "2022-04-18T02:29:25.694929",
          "status": "completed"
        },
        "tags": []
      },
      "outputs": [],
      "source": [
        "# Tokenize questions and paragraphs separately\n",
        "# 「add_special_tokens」 is set to False since special tokens will be added when tokenized questions and paragraphs are combined in datset __getitem__ \n",
        "\n",
        "train_questions_tokenized = tokenizer([train_question[\"question_text\"] for train_question in train_questions], add_special_tokens=False)\n",
        "dev_questions_tokenized = tokenizer([dev_question[\"question_text\"] for dev_question in dev_questions], add_special_tokens=False)\n",
        "test_questions_tokenized = tokenizer([test_question[\"question_text\"] for test_question in test_questions], add_special_tokens=False) \n",
        "\n",
        "train_paragraphs_tokenized = tokenizer(train_paragraphs, add_special_tokens=False)\n",
        "dev_paragraphs_tokenized = tokenizer(dev_paragraphs, add_special_tokens=False)\n",
        "test_paragraphs_tokenized = tokenizer(test_paragraphs, add_special_tokens=False)\n",
        "\n",
        "# You can safely ignore the warning message as tokenized sequences will be futher processed in datset __getitem__ before passing to model"
      ]
    },
    {
      "cell_type": "markdown",
      "id": "6dcf055a",
      "metadata": {
        "id": "6dcf055a",
        "papermill": {
          "duration": 0.034793,
          "end_time": "2022-04-18T02:29:39.875839",
          "exception": false,
          "start_time": "2022-04-18T02:29:39.841046",
          "status": "completed"
        },
        "tags": []
      },
      "source": [
        "## Dataset and Dataloader"
      ]
    },
    {
      "cell_type": "code",
      "execution_count": null,
      "id": "cad8d86e",
      "metadata": {
        "execution": {
          "iopub.execute_input": "2022-04-18T02:29:39.968656Z",
          "iopub.status.busy": "2022-04-18T02:29:39.964677Z",
          "iopub.status.idle": "2022-04-18T02:29:39.970956Z",
          "shell.execute_reply": "2022-04-18T02:29:39.970511Z",
          "shell.execute_reply.started": "2022-04-17T18:28:46.227197Z"
        },
        "id": "cad8d86e",
        "papermill": {
          "duration": 0.059815,
          "end_time": "2022-04-18T02:29:39.971072",
          "exception": false,
          "start_time": "2022-04-18T02:29:39.911257",
          "status": "completed"
        },
        "tags": []
      },
      "outputs": [],
      "source": [
        "class QA_Dataset(Dataset):\n",
        "    def __init__(self, split, questions, tokenized_questions, tokenized_paragraphs):\n",
        "        self.split = split\n",
        "        self.questions = questions\n",
        "        self.tokenized_questions = tokenized_questions\n",
        "        self.tokenized_paragraphs = tokenized_paragraphs\n",
        "        self.max_question_len = 40\n",
        "        self.max_paragraph_len = 250#250 #150 ## [ARRANGE] 350\n",
        "        \n",
        "        ##### TODO: Change value of doc_stride #####\n",
        "        self.doc_stride = 200#200# 150 ## [ARRANGE] 300\n",
        "\n",
        "        # Input sequence length = [CLS] + question + [SEP] + paragraph + [SEP]\n",
        "        self.max_seq_len = 1 + self.max_question_len + 1 + self.max_paragraph_len + 1\n",
        "\n",
        "    def __len__(self):\n",
        "        return len(self.questions)\n",
        "\n",
        "    def __getitem__(self, idx):\n",
        "        question = self.questions[idx]\n",
        "        tokenized_question = self.tokenized_questions[idx]\n",
        "        tokenized_paragraph = self.tokenized_paragraphs[question[\"paragraph_id\"]]\n",
        "\n",
        "        ##### TODO: Preprocessing #####\n",
        "        # Hint: How to prevent model from learning something it should not learn\n",
        "\n",
        "        if self.split == \"train\":\n",
        "            # Convert answer's start/end positions in paragraph_text to start/end positions in tokenized_paragraph  \n",
        "            answer_start_token = tokenized_paragraph.char_to_token(question[\"answer_start\"])\n",
        "            answer_end_token = tokenized_paragraph.char_to_token(question[\"answer_end\"])\n",
        "\n",
        "            # A single window is obtained by slicing the portion of paragraph containing the answer\n",
        "            mid = (answer_start_token + answer_end_token) // 2\n",
        "            paragraph_start = max(0, min(mid - self.max_paragraph_len // 2, len(tokenized_paragraph) - self.max_paragraph_len))\n",
        "            ## [ARRANGE]\n",
        "            if answer_start_token >  self.max_paragraph_len:\n",
        "               paragraph_start = min(answer_start_token - self.max_paragraph_len // 2, len(tokenized_paragraph) - self.max_paragraph_len) #不能從0開始\n",
        "            else:\n",
        "               paragraph_start = 0\n",
        "            paragraph_end = paragraph_start + self.max_paragraph_len\n",
        "\n",
        "            # Slice question/paragraph and add special tokens (101: CLS, 102: SEP)\n",
        "            input_ids_question = [101] + tokenized_question.ids[:self.max_question_len] + [102] \n",
        "            input_ids_paragraph = tokenized_paragraph.ids[paragraph_start : paragraph_end] + [102]\t\t\n",
        "            \n",
        "            # Convert answer's start/end positions in tokenized_paragraph to start/end positions in the window  \n",
        "            answer_start_token += len(input_ids_question) - paragraph_start\n",
        "            answer_end_token += len(input_ids_question) - paragraph_start\n",
        "            \n",
        "            # Pad sequence and obtain inputs to model \n",
        "            input_ids, token_type_ids, attention_mask = self.padding(input_ids_question, input_ids_paragraph)\n",
        "            return torch.tensor(input_ids), torch.tensor(token_type_ids), torch.tensor(attention_mask), answer_start_token, answer_end_token\n",
        "\n",
        "        # Validation/Testing\n",
        "        else:\n",
        "            input_ids_list, token_type_ids_list, attention_mask_list = [], [], []\n",
        "            \n",
        "            # Paragraph is split into several windows, each with start positions separated by step \"doc_stride\"\n",
        "            for i in range(0, len(tokenized_paragraph), self.doc_stride):\n",
        "                \n",
        "                # Slice question/paragraph and add special tokens (101: CLS, 102: SEP)\n",
        "                input_ids_question = [101] + tokenized_question.ids[:self.max_question_len] + [102]\n",
        "                input_ids_paragraph = tokenized_paragraph.ids[i : i + self.max_paragraph_len] + [102]\n",
        "                \n",
        "                # Pad sequence and obtain inputs to model\n",
        "                input_ids, token_type_ids, attention_mask = self.padding(input_ids_question, input_ids_paragraph)\n",
        "                \n",
        "                input_ids_list.append(input_ids)\n",
        "                token_type_ids_list.append(token_type_ids)\n",
        "                attention_mask_list.append(attention_mask)\n",
        "            \n",
        "            return torch.tensor(input_ids_list), torch.tensor(token_type_ids_list), torch.tensor(attention_mask_list)\n",
        "\n",
        "    def padding(self, input_ids_question, input_ids_paragraph):\n",
        "        # Pad zeros if sequence length is shorter than max_seq_len\n",
        "        padding_len = self.max_seq_len - len(input_ids_question) - len(input_ids_paragraph)\n",
        "        # Indices of input sequence tokens in the vocabulary\n",
        "        input_ids = input_ids_question + input_ids_paragraph + [0] * padding_len\n",
        "        # Segment token indices to indicate first and second portions of the inputs. Indices are selected in [0, 1]\n",
        "        token_type_ids = [0] * len(input_ids_question) + [1] * len(input_ids_paragraph) + [0] * padding_len\n",
        "        # Mask to avoid performing attention on padding token indices. Mask values selected in [0, 1]\n",
        "        attention_mask = [1] * (len(input_ids_question) + len(input_ids_paragraph)) + [0] * padding_len\n",
        "        \n",
        "        return input_ids, token_type_ids, attention_mask\n",
        "\n",
        "train_set = QA_Dataset(\"train\", train_questions, train_questions_tokenized, train_paragraphs_tokenized)\n",
        "dev_set = QA_Dataset(\"dev\", dev_questions, dev_questions_tokenized, dev_paragraphs_tokenized)\n",
        "test_set = QA_Dataset(\"test\", test_questions, test_questions_tokenized, test_paragraphs_tokenized)\n",
        "\n",
        "train_batch_size = 8 #32 ## [ARRANGE] 8\n",
        "\n",
        "# Note: Do NOT change batch size of dev_loader / test_loader !\n",
        "# Although batch size=1, it is actually a batch consisting of several windows from the same QA pair\n",
        "train_loader = DataLoader(train_set, batch_size=train_batch_size, shuffle=True, pin_memory=True)\n",
        "dev_loader = DataLoader(dev_set, batch_size=1, shuffle=False, pin_memory=True)\n",
        "test_loader = DataLoader(test_set, batch_size=1, shuffle=False, pin_memory=True)"
      ]
    },
    {
      "cell_type": "markdown",
      "id": "7ab438e6",
      "metadata": {
        "id": "7ab438e6",
        "papermill": {
          "duration": 0.034926,
          "end_time": "2022-04-18T02:29:40.041773",
          "exception": false,
          "start_time": "2022-04-18T02:29:40.006847",
          "status": "completed"
        },
        "tags": []
      },
      "source": [
        "## Function for Evaluation"
      ]
    },
    {
      "cell_type": "code",
      "execution_count": null,
      "id": "d33da93b",
      "metadata": {
        "execution": {
          "iopub.execute_input": "2022-04-18T02:29:40.199363Z",
          "iopub.status.busy": "2022-04-18T02:29:40.198447Z",
          "iopub.status.idle": "2022-04-18T02:29:40.200311Z",
          "shell.execute_reply": "2022-04-18T02:29:40.200795Z",
          "shell.execute_reply.started": "2022-04-17T18:28:46.616892Z"
        },
        "id": "d33da93b",
        "papermill": {
          "duration": 0.047095,
          "end_time": "2022-04-18T02:29:40.200931",
          "exception": false,
          "start_time": "2022-04-18T02:29:40.153836",
          "status": "completed"
        },
        "tags": []
      },
      "outputs": [],
      "source": [
        "def evaluate(data, output): \n",
        "    ##### TODO: Postprocessing #####\n",
        "    # There is a bug and room for improvement in postprocessing \n",
        "    # Hint: Open your prediction file to see what is wrong \n",
        "    \n",
        "    answer = ''\n",
        "    max_prob = float('-inf')\n",
        "    num_of_windows = data[0].shape[1]\n",
        "    \n",
        "    for k in range(num_of_windows):\n",
        "        # Obtain answer by choosing the most probable start position / end position\n",
        "        start_prob, start_index = torch.max(output.start_logits[k], dim=0)\n",
        "        end_prob, end_index = torch.max(output.end_logits[k], dim=0)\n",
        "        \n",
        "        # Probability of answer is calculated as sum of start_prob and end_prob\n",
        "        prob = start_prob + end_prob\n",
        "        \n",
        "        # Replace answer if calculated probability is larger than previous windows\n",
        "        if prob > max_prob:\n",
        "            max_prob = prob\n",
        "            # Convert tokens to chars (e.g. [1920, 7032] --> \"大 金\")\n",
        "            answer = tokenizer.decode(data[0][0][k][start_index : end_index + 1])\n",
        "    \n",
        "    # Remove spaces in answer (e.g. \"大 金\" --> \"大金\")\n",
        "    return answer.replace(' ','')"
      ]
    },
    {
      "cell_type": "markdown",
      "id": "4fa26c2e",
      "metadata": {
        "id": "4fa26c2e",
        "papermill": {
          "duration": 0.036493,
          "end_time": "2022-04-18T02:29:40.273452",
          "exception": false,
          "start_time": "2022-04-18T02:29:40.236959",
          "status": "completed"
        },
        "tags": []
      },
      "source": [
        "## Training"
      ]
    },
    {
      "cell_type": "code",
      "execution_count": null,
      "id": "40c8d680",
      "metadata": {
        "execution": {
          "iopub.execute_input": "2022-04-18T02:29:40.370417Z",
          "iopub.status.busy": "2022-04-18T02:29:40.361281Z",
          "iopub.status.idle": "2022-04-18T08:23:46.412875Z",
          "shell.execute_reply": "2022-04-18T08:23:46.413686Z",
          "shell.execute_reply.started": "2022-04-17T18:28:47.815913Z"
        },
        "id": "40c8d680",
        "papermill": {
          "duration": 21246.102803,
          "end_time": "2022-04-18T08:23:46.413946",
          "exception": false,
          "start_time": "2022-04-18T02:29:40.311143",
          "status": "completed"
        },
        "tags": [],
        "colab": {
          "referenced_widgets": [
            "99a7c3e6105e48058606ddc72e08e1c2",
            "0c879412642e47719ce71f682979922e",
            "2b61b06ad86a43fc8c37d8787f89f442",
            "02b7f4deb6944502858c6a210cb1dda1",
            "f9b2d679bd764c038caf92261a579386",
            "0d771f88976b4b83be4914c4115959a1",
            "6cbaa49df128411d8b50d45f2ec767c7",
            "b75463d3783049029d952cae21f0814e",
            "73f65b5e45fa4176b3524343e8b7dbf6",
            "37924185f44f4dc086e40f18bd8d8218",
            "3cea6fb6a3cb432893a96903a9459a3e",
            "4c44bdea4fc54f25be23322505d9c278"
          ]
        },
        "outputId": "da08be51-307c-4921-b6db-18d0c370fc8d"
      },
      "outputs": [
        {
          "name": "stdout",
          "output_type": "stream",
          "text": [
            "total_steps: 23772\n",
            "Start Training ...\n"
          ]
        },
        {
          "data": {
            "application/vnd.jupyter.widget-view+json": {
              "model_id": "99a7c3e6105e48058606ddc72e08e1c2",
              "version_major": 2,
              "version_minor": 0
            },
            "text/plain": [
              "  0%|          | 0/3962 [00:00<?, ?it/s]"
            ]
          },
          "metadata": {},
          "output_type": "display_data"
        },
        {
          "name": "stdout",
          "output_type": "stream",
          "text": [
            "Epoch 1 | Step 100 | loss = 2.985, acc = 0.241\n",
            "Epoch 1 | Step 200 | loss = 1.403, acc = 0.505\n",
            "Epoch 1 | Step 300 | loss = 1.010, acc = 0.632\n",
            "Epoch 1 | Step 400 | loss = 0.873, acc = 0.671\n",
            "Epoch 1 | Step 500 | loss = 0.886, acc = 0.671\n",
            "Epoch 1 | Step 600 | loss = 0.818, acc = 0.688\n",
            "Epoch 1 | Step 700 | loss = 0.861, acc = 0.680\n",
            "Epoch 1 | Step 800 | loss = 0.726, acc = 0.722\n",
            "Epoch 1 | Step 900 | loss = 0.735, acc = 0.726\n",
            "Epoch 1 | Step 1000 | loss = 0.790, acc = 0.706\n",
            "Epoch 1 | Step 1100 | loss = 0.770, acc = 0.746\n",
            "Epoch 1 | Step 1200 | loss = 0.773, acc = 0.706\n",
            "Epoch 1 | Step 1300 | loss = 0.665, acc = 0.756\n",
            "Epoch 1 | Step 1400 | loss = 0.715, acc = 0.730\n",
            "Epoch 1 | Step 1500 | loss = 0.692, acc = 0.717\n",
            "Epoch 1 | Step 1600 | loss = 0.634, acc = 0.759\n",
            "Epoch 1 | Step 1700 | loss = 0.658, acc = 0.739\n",
            "Epoch 1 | Step 1800 | loss = 0.636, acc = 0.748\n",
            "Epoch 1 | Step 1900 | loss = 0.681, acc = 0.751\n",
            "Epoch 1 | Step 2000 | loss = 0.609, acc = 0.787\n",
            "Epoch 1 | Step 2100 | loss = 0.613, acc = 0.771\n",
            "Epoch 1 | Step 2200 | loss = 0.638, acc = 0.754\n",
            "Epoch 1 | Step 2300 | loss = 0.636, acc = 0.775\n",
            "Epoch 1 | Step 2400 | loss = 0.556, acc = 0.775\n",
            "Epoch 1 | Step 2500 | loss = 0.606, acc = 0.752\n",
            "Epoch 1 | Step 2600 | loss = 0.536, acc = 0.785\n",
            "Epoch 1 | Step 2700 | loss = 0.558, acc = 0.782\n",
            "Epoch 1 | Step 2800 | loss = 0.579, acc = 0.751\n",
            "Epoch 1 | Step 2900 | loss = 0.585, acc = 0.770\n",
            "Epoch 1 | Step 3000 | loss = 0.565, acc = 0.776\n",
            "Epoch 1 | Step 3100 | loss = 0.587, acc = 0.786\n",
            "Epoch 1 | Step 3200 | loss = 0.598, acc = 0.774\n",
            "Epoch 1 | Step 3300 | loss = 0.590, acc = 0.770\n",
            "Epoch 1 | Step 3400 | loss = 0.512, acc = 0.795\n",
            "Epoch 1 | Step 3500 | loss = 0.515, acc = 0.796\n",
            "Epoch 1 | Step 3600 | loss = 0.548, acc = 0.777\n",
            "Epoch 1 | Step 3700 | loss = 0.565, acc = 0.770\n",
            "Epoch 1 | Step 3800 | loss = 0.565, acc = 0.761\n",
            "Epoch 1 | Step 3900 | loss = 0.557, acc = 0.794\n",
            "Evaluating Dev Set ...\n"
          ]
        },
        {
          "data": {
            "application/vnd.jupyter.widget-view+json": {
              "model_id": "0c879412642e47719ce71f682979922e",
              "version_major": 2,
              "version_minor": 0
            },
            "text/plain": [
              "  0%|          | 0/4131 [00:00<?, ?it/s]"
            ]
          },
          "metadata": {},
          "output_type": "display_data"
        },
        {
          "name": "stdout",
          "output_type": "stream",
          "text": [
            "Validation | Epoch 1 | acc = 0.782\n"
          ]
        },
        {
          "data": {
            "application/vnd.jupyter.widget-view+json": {
              "model_id": "2b61b06ad86a43fc8c37d8787f89f442",
              "version_major": 2,
              "version_minor": 0
            },
            "text/plain": [
              "  0%|          | 0/3962 [00:00<?, ?it/s]"
            ]
          },
          "metadata": {},
          "output_type": "display_data"
        },
        {
          "name": "stdout",
          "output_type": "stream",
          "text": [
            "Epoch 2 | Step 100 | loss = 0.260, acc = 0.870\n",
            "Epoch 2 | Step 200 | loss = 0.325, acc = 0.862\n",
            "Epoch 2 | Step 300 | loss = 0.394, acc = 0.816\n",
            "Epoch 2 | Step 400 | loss = 0.301, acc = 0.866\n",
            "Epoch 2 | Step 500 | loss = 0.328, acc = 0.860\n",
            "Epoch 2 | Step 600 | loss = 0.298, acc = 0.866\n",
            "Epoch 2 | Step 700 | loss = 0.312, acc = 0.865\n",
            "Epoch 2 | Step 800 | loss = 0.293, acc = 0.864\n",
            "Epoch 2 | Step 900 | loss = 0.272, acc = 0.862\n",
            "Epoch 2 | Step 1000 | loss = 0.330, acc = 0.851\n",
            "Epoch 2 | Step 1100 | loss = 0.316, acc = 0.856\n",
            "Epoch 2 | Step 1200 | loss = 0.331, acc = 0.855\n",
            "Epoch 2 | Step 1300 | loss = 0.321, acc = 0.852\n",
            "Epoch 2 | Step 1400 | loss = 0.359, acc = 0.851\n",
            "Epoch 2 | Step 1500 | loss = 0.319, acc = 0.864\n",
            "Epoch 2 | Step 1600 | loss = 0.327, acc = 0.854\n",
            "Epoch 2 | Step 1700 | loss = 0.328, acc = 0.870\n",
            "Epoch 2 | Step 1800 | loss = 0.274, acc = 0.879\n",
            "Epoch 2 | Step 1900 | loss = 0.331, acc = 0.860\n",
            "Epoch 2 | Step 2000 | loss = 0.360, acc = 0.831\n",
            "Epoch 2 | Step 2100 | loss = 0.261, acc = 0.881\n",
            "Epoch 2 | Step 2200 | loss = 0.354, acc = 0.841\n",
            "Epoch 2 | Step 2300 | loss = 0.300, acc = 0.873\n",
            "Epoch 2 | Step 2400 | loss = 0.328, acc = 0.846\n",
            "Epoch 2 | Step 2500 | loss = 0.371, acc = 0.847\n",
            "Epoch 2 | Step 2600 | loss = 0.288, acc = 0.873\n",
            "Epoch 2 | Step 2700 | loss = 0.291, acc = 0.875\n",
            "Epoch 2 | Step 2800 | loss = 0.287, acc = 0.870\n",
            "Epoch 2 | Step 2900 | loss = 0.308, acc = 0.861\n",
            "Epoch 2 | Step 3000 | loss = 0.321, acc = 0.869\n",
            "Epoch 2 | Step 3100 | loss = 0.303, acc = 0.861\n",
            "Epoch 2 | Step 3200 | loss = 0.344, acc = 0.844\n",
            "Epoch 2 | Step 3300 | loss = 0.274, acc = 0.876\n",
            "Epoch 2 | Step 3400 | loss = 0.323, acc = 0.859\n",
            "Epoch 2 | Step 3500 | loss = 0.258, acc = 0.889\n",
            "Epoch 2 | Step 3600 | loss = 0.277, acc = 0.879\n",
            "Epoch 2 | Step 3700 | loss = 0.312, acc = 0.849\n",
            "Epoch 2 | Step 3800 | loss = 0.290, acc = 0.881\n",
            "Epoch 2 | Step 3900 | loss = 0.325, acc = 0.855\n",
            "Evaluating Dev Set ...\n"
          ]
        },
        {
          "data": {
            "application/vnd.jupyter.widget-view+json": {
              "model_id": "02b7f4deb6944502858c6a210cb1dda1",
              "version_major": 2,
              "version_minor": 0
            },
            "text/plain": [
              "  0%|          | 0/4131 [00:00<?, ?it/s]"
            ]
          },
          "metadata": {},
          "output_type": "display_data"
        },
        {
          "name": "stdout",
          "output_type": "stream",
          "text": [
            "Validation | Epoch 2 | acc = 0.782\n"
          ]
        },
        {
          "data": {
            "application/vnd.jupyter.widget-view+json": {
              "model_id": "f9b2d679bd764c038caf92261a579386",
              "version_major": 2,
              "version_minor": 0
            },
            "text/plain": [
              "  0%|          | 0/3962 [00:00<?, ?it/s]"
            ]
          },
          "metadata": {},
          "output_type": "display_data"
        },
        {
          "name": "stdout",
          "output_type": "stream",
          "text": [
            "Epoch 3 | Step 100 | loss = 0.154, acc = 0.906\n",
            "Epoch 3 | Step 200 | loss = 0.144, acc = 0.924\n",
            "Epoch 3 | Step 300 | loss = 0.136, acc = 0.938\n",
            "Epoch 3 | Step 400 | loss = 0.141, acc = 0.919\n",
            "Epoch 3 | Step 500 | loss = 0.168, acc = 0.910\n",
            "Epoch 3 | Step 600 | loss = 0.132, acc = 0.926\n",
            "Epoch 3 | Step 700 | loss = 0.154, acc = 0.921\n",
            "Epoch 3 | Step 800 | loss = 0.152, acc = 0.914\n",
            "Epoch 3 | Step 900 | loss = 0.117, acc = 0.935\n",
            "Epoch 3 | Step 1000 | loss = 0.147, acc = 0.920\n",
            "Epoch 3 | Step 1100 | loss = 0.148, acc = 0.941\n",
            "Epoch 3 | Step 1200 | loss = 0.127, acc = 0.939\n",
            "Epoch 3 | Step 1300 | loss = 0.170, acc = 0.906\n",
            "Epoch 3 | Step 1400 | loss = 0.121, acc = 0.936\n",
            "Epoch 3 | Step 1500 | loss = 0.150, acc = 0.910\n",
            "Epoch 3 | Step 1600 | loss = 0.133, acc = 0.933\n",
            "Epoch 3 | Step 1700 | loss = 0.110, acc = 0.944\n",
            "Epoch 3 | Step 1800 | loss = 0.134, acc = 0.924\n",
            "Epoch 3 | Step 1900 | loss = 0.140, acc = 0.927\n",
            "Epoch 3 | Step 2000 | loss = 0.122, acc = 0.935\n",
            "Epoch 3 | Step 2100 | loss = 0.184, acc = 0.917\n",
            "Epoch 3 | Step 2200 | loss = 0.123, acc = 0.931\n",
            "Epoch 3 | Step 2300 | loss = 0.148, acc = 0.917\n",
            "Epoch 3 | Step 2400 | loss = 0.153, acc = 0.917\n",
            "Epoch 3 | Step 2500 | loss = 0.165, acc = 0.917\n",
            "Epoch 3 | Step 2600 | loss = 0.161, acc = 0.924\n",
            "Epoch 3 | Step 2700 | loss = 0.120, acc = 0.935\n",
            "Epoch 3 | Step 2800 | loss = 0.140, acc = 0.935\n",
            "Epoch 3 | Step 2900 | loss = 0.192, acc = 0.901\n",
            "Epoch 3 | Step 3000 | loss = 0.155, acc = 0.924\n",
            "Epoch 3 | Step 3100 | loss = 0.176, acc = 0.912\n",
            "Epoch 3 | Step 3200 | loss = 0.144, acc = 0.916\n",
            "Epoch 3 | Step 3300 | loss = 0.163, acc = 0.924\n",
            "Epoch 3 | Step 3400 | loss = 0.139, acc = 0.927\n",
            "Epoch 3 | Step 3500 | loss = 0.171, acc = 0.904\n",
            "Epoch 3 | Step 3600 | loss = 0.150, acc = 0.925\n",
            "Epoch 3 | Step 3700 | loss = 0.114, acc = 0.933\n",
            "Epoch 3 | Step 3800 | loss = 0.139, acc = 0.935\n",
            "Epoch 3 | Step 3900 | loss = 0.130, acc = 0.934\n",
            "Evaluating Dev Set ...\n"
          ]
        },
        {
          "data": {
            "application/vnd.jupyter.widget-view+json": {
              "model_id": "0d771f88976b4b83be4914c4115959a1",
              "version_major": 2,
              "version_minor": 0
            },
            "text/plain": [
              "  0%|          | 0/4131 [00:00<?, ?it/s]"
            ]
          },
          "metadata": {},
          "output_type": "display_data"
        },
        {
          "name": "stdout",
          "output_type": "stream",
          "text": [
            "Validation | Epoch 3 | acc = 0.782\n"
          ]
        },
        {
          "data": {
            "application/vnd.jupyter.widget-view+json": {
              "model_id": "6cbaa49df128411d8b50d45f2ec767c7",
              "version_major": 2,
              "version_minor": 0
            },
            "text/plain": [
              "  0%|          | 0/3962 [00:00<?, ?it/s]"
            ]
          },
          "metadata": {},
          "output_type": "display_data"
        },
        {
          "name": "stdout",
          "output_type": "stream",
          "text": [
            "Epoch 4 | Step 100 | loss = 0.071, acc = 0.965\n",
            "Epoch 4 | Step 200 | loss = 0.072, acc = 0.965\n",
            "Epoch 4 | Step 300 | loss = 0.093, acc = 0.952\n",
            "Epoch 4 | Step 400 | loss = 0.066, acc = 0.966\n",
            "Epoch 4 | Step 500 | loss = 0.075, acc = 0.964\n",
            "Epoch 4 | Step 600 | loss = 0.047, acc = 0.972\n",
            "Epoch 4 | Step 700 | loss = 0.078, acc = 0.967\n",
            "Epoch 4 | Step 800 | loss = 0.064, acc = 0.966\n",
            "Epoch 4 | Step 900 | loss = 0.088, acc = 0.959\n",
            "Epoch 4 | Step 1000 | loss = 0.058, acc = 0.970\n",
            "Epoch 4 | Step 1100 | loss = 0.078, acc = 0.954\n",
            "Epoch 4 | Step 1200 | loss = 0.077, acc = 0.959\n",
            "Epoch 4 | Step 1300 | loss = 0.070, acc = 0.967\n",
            "Epoch 4 | Step 1400 | loss = 0.065, acc = 0.964\n",
            "Epoch 4 | Step 1500 | loss = 0.101, acc = 0.955\n",
            "Epoch 4 | Step 1600 | loss = 0.076, acc = 0.964\n",
            "Epoch 4 | Step 1700 | loss = 0.077, acc = 0.960\n",
            "Epoch 4 | Step 1800 | loss = 0.084, acc = 0.952\n",
            "Epoch 4 | Step 1900 | loss = 0.068, acc = 0.962\n",
            "Epoch 4 | Step 2000 | loss = 0.077, acc = 0.960\n",
            "Epoch 4 | Step 2100 | loss = 0.093, acc = 0.952\n",
            "Epoch 4 | Step 2200 | loss = 0.069, acc = 0.966\n",
            "Epoch 4 | Step 2300 | loss = 0.081, acc = 0.956\n",
            "Epoch 4 | Step 2400 | loss = 0.063, acc = 0.962\n",
            "Epoch 4 | Step 2500 | loss = 0.098, acc = 0.950\n",
            "Epoch 4 | Step 2600 | loss = 0.095, acc = 0.952\n",
            "Epoch 4 | Step 2700 | loss = 0.077, acc = 0.961\n",
            "Epoch 4 | Step 2800 | loss = 0.081, acc = 0.950\n",
            "Epoch 4 | Step 2900 | loss = 0.057, acc = 0.966\n",
            "Epoch 4 | Step 3000 | loss = 0.071, acc = 0.962\n",
            "Epoch 4 | Step 3100 | loss = 0.095, acc = 0.940\n",
            "Epoch 4 | Step 3200 | loss = 0.094, acc = 0.951\n",
            "Epoch 4 | Step 3300 | loss = 0.059, acc = 0.964\n",
            "Epoch 4 | Step 3400 | loss = 0.074, acc = 0.962\n",
            "Epoch 4 | Step 3500 | loss = 0.072, acc = 0.959\n",
            "Epoch 4 | Step 3600 | loss = 0.074, acc = 0.959\n",
            "Epoch 4 | Step 3700 | loss = 0.074, acc = 0.966\n",
            "Epoch 4 | Step 3800 | loss = 0.074, acc = 0.964\n",
            "Epoch 4 | Step 3900 | loss = 0.086, acc = 0.965\n",
            "Evaluating Dev Set ...\n"
          ]
        },
        {
          "data": {
            "application/vnd.jupyter.widget-view+json": {
              "model_id": "b75463d3783049029d952cae21f0814e",
              "version_major": 2,
              "version_minor": 0
            },
            "text/plain": [
              "  0%|          | 0/4131 [00:00<?, ?it/s]"
            ]
          },
          "metadata": {},
          "output_type": "display_data"
        },
        {
          "name": "stdout",
          "output_type": "stream",
          "text": [
            "Validation | Epoch 4 | acc = 0.782\n"
          ]
        },
        {
          "data": {
            "application/vnd.jupyter.widget-view+json": {
              "model_id": "73f65b5e45fa4176b3524343e8b7dbf6",
              "version_major": 2,
              "version_minor": 0
            },
            "text/plain": [
              "  0%|          | 0/3962 [00:00<?, ?it/s]"
            ]
          },
          "metadata": {},
          "output_type": "display_data"
        },
        {
          "name": "stdout",
          "output_type": "stream",
          "text": [
            "Epoch 5 | Step 100 | loss = 0.043, acc = 0.967\n",
            "Epoch 5 | Step 200 | loss = 0.046, acc = 0.977\n",
            "Epoch 5 | Step 300 | loss = 0.042, acc = 0.977\n",
            "Epoch 5 | Step 400 | loss = 0.042, acc = 0.977\n",
            "Epoch 5 | Step 500 | loss = 0.042, acc = 0.977\n",
            "Epoch 5 | Step 600 | loss = 0.028, acc = 0.980\n",
            "Epoch 5 | Step 700 | loss = 0.059, acc = 0.971\n",
            "Epoch 5 | Step 800 | loss = 0.034, acc = 0.981\n",
            "Epoch 5 | Step 900 | loss = 0.042, acc = 0.977\n",
            "Epoch 5 | Step 1000 | loss = 0.028, acc = 0.987\n",
            "Epoch 5 | Step 1100 | loss = 0.040, acc = 0.981\n",
            "Epoch 5 | Step 1200 | loss = 0.032, acc = 0.984\n",
            "Epoch 5 | Step 1300 | loss = 0.032, acc = 0.982\n",
            "Epoch 5 | Step 1400 | loss = 0.040, acc = 0.979\n",
            "Epoch 5 | Step 1500 | loss = 0.036, acc = 0.985\n",
            "Epoch 5 | Step 1600 | loss = 0.036, acc = 0.980\n",
            "Epoch 5 | Step 1700 | loss = 0.058, acc = 0.969\n",
            "Epoch 5 | Step 1800 | loss = 0.046, acc = 0.979\n",
            "Epoch 5 | Step 1900 | loss = 0.037, acc = 0.980\n",
            "Epoch 5 | Step 2000 | loss = 0.037, acc = 0.980\n",
            "Epoch 5 | Step 2100 | loss = 0.048, acc = 0.969\n",
            "Epoch 5 | Step 2200 | loss = 0.035, acc = 0.976\n",
            "Epoch 5 | Step 2300 | loss = 0.039, acc = 0.975\n",
            "Epoch 5 | Step 2400 | loss = 0.044, acc = 0.967\n",
            "Epoch 5 | Step 2500 | loss = 0.046, acc = 0.976\n",
            "Epoch 5 | Step 2600 | loss = 0.060, acc = 0.960\n",
            "Epoch 5 | Step 2700 | loss = 0.052, acc = 0.970\n",
            "Epoch 5 | Step 2800 | loss = 0.034, acc = 0.987\n",
            "Epoch 5 | Step 2900 | loss = 0.024, acc = 0.987\n",
            "Epoch 5 | Step 3000 | loss = 0.039, acc = 0.981\n",
            "Epoch 5 | Step 3100 | loss = 0.041, acc = 0.985\n",
            "Epoch 5 | Step 3200 | loss = 0.054, acc = 0.966\n",
            "Epoch 5 | Step 3300 | loss = 0.045, acc = 0.971\n",
            "Epoch 5 | Step 3400 | loss = 0.037, acc = 0.979\n",
            "Epoch 5 | Step 3500 | loss = 0.042, acc = 0.980\n",
            "Epoch 5 | Step 3600 | loss = 0.029, acc = 0.987\n",
            "Epoch 5 | Step 3700 | loss = 0.040, acc = 0.977\n",
            "Epoch 5 | Step 3800 | loss = 0.034, acc = 0.981\n",
            "Epoch 5 | Step 3900 | loss = 0.036, acc = 0.976\n",
            "Evaluating Dev Set ...\n"
          ]
        },
        {
          "data": {
            "application/vnd.jupyter.widget-view+json": {
              "model_id": "37924185f44f4dc086e40f18bd8d8218",
              "version_major": 2,
              "version_minor": 0
            },
            "text/plain": [
              "  0%|          | 0/4131 [00:00<?, ?it/s]"
            ]
          },
          "metadata": {},
          "output_type": "display_data"
        },
        {
          "name": "stdout",
          "output_type": "stream",
          "text": [
            "Validation | Epoch 5 | acc = 0.786\n"
          ]
        },
        {
          "data": {
            "application/vnd.jupyter.widget-view+json": {
              "model_id": "3cea6fb6a3cb432893a96903a9459a3e",
              "version_major": 2,
              "version_minor": 0
            },
            "text/plain": [
              "  0%|          | 0/3962 [00:00<?, ?it/s]"
            ]
          },
          "metadata": {},
          "output_type": "display_data"
        },
        {
          "name": "stdout",
          "output_type": "stream",
          "text": [
            "Epoch 6 | Step 100 | loss = 0.026, acc = 0.974\n",
            "Epoch 6 | Step 200 | loss = 0.040, acc = 0.982\n",
            "Epoch 6 | Step 300 | loss = 0.038, acc = 0.981\n",
            "Epoch 6 | Step 400 | loss = 0.035, acc = 0.976\n",
            "Epoch 6 | Step 500 | loss = 0.016, acc = 0.989\n",
            "Epoch 6 | Step 600 | loss = 0.021, acc = 0.990\n",
            "Epoch 6 | Step 700 | loss = 0.028, acc = 0.986\n",
            "Epoch 6 | Step 800 | loss = 0.026, acc = 0.980\n",
            "Epoch 6 | Step 900 | loss = 0.036, acc = 0.977\n",
            "Epoch 6 | Step 1000 | loss = 0.024, acc = 0.985\n",
            "Epoch 6 | Step 1100 | loss = 0.024, acc = 0.986\n",
            "Epoch 6 | Step 1200 | loss = 0.034, acc = 0.980\n",
            "Epoch 6 | Step 1300 | loss = 0.030, acc = 0.985\n",
            "Epoch 6 | Step 1400 | loss = 0.018, acc = 0.989\n",
            "Epoch 6 | Step 1500 | loss = 0.019, acc = 0.991\n",
            "Epoch 6 | Step 1600 | loss = 0.021, acc = 0.987\n",
            "Epoch 6 | Step 1700 | loss = 0.016, acc = 0.987\n",
            "Epoch 6 | Step 1800 | loss = 0.022, acc = 0.986\n",
            "Epoch 6 | Step 1900 | loss = 0.022, acc = 0.987\n",
            "Epoch 6 | Step 2000 | loss = 0.020, acc = 0.987\n",
            "Epoch 6 | Step 2100 | loss = 0.024, acc = 0.984\n",
            "Epoch 6 | Step 2200 | loss = 0.019, acc = 0.989\n",
            "Epoch 6 | Step 2300 | loss = 0.025, acc = 0.986\n",
            "Epoch 6 | Step 2400 | loss = 0.039, acc = 0.980\n",
            "Epoch 6 | Step 2500 | loss = 0.031, acc = 0.990\n",
            "Epoch 6 | Step 2600 | loss = 0.019, acc = 0.991\n",
            "Epoch 6 | Step 2700 | loss = 0.041, acc = 0.984\n",
            "Epoch 6 | Step 2800 | loss = 0.026, acc = 0.982\n",
            "Epoch 6 | Step 2900 | loss = 0.040, acc = 0.976\n",
            "Epoch 6 | Step 3000 | loss = 0.022, acc = 0.987\n",
            "Epoch 6 | Step 3100 | loss = 0.018, acc = 0.991\n",
            "Epoch 6 | Step 3200 | loss = 0.017, acc = 0.989\n",
            "Epoch 6 | Step 3300 | loss = 0.028, acc = 0.984\n",
            "Epoch 6 | Step 3400 | loss = 0.025, acc = 0.984\n",
            "Epoch 6 | Step 3500 | loss = 0.031, acc = 0.984\n",
            "Epoch 6 | Step 3600 | loss = 0.015, acc = 0.993\n",
            "Epoch 6 | Step 3700 | loss = 0.027, acc = 0.990\n",
            "Epoch 6 | Step 3800 | loss = 0.029, acc = 0.982\n",
            "Epoch 6 | Step 3900 | loss = 0.031, acc = 0.985\n",
            "Evaluating Dev Set ...\n"
          ]
        },
        {
          "data": {
            "application/vnd.jupyter.widget-view+json": {
              "model_id": "4c44bdea4fc54f25be23322505d9c278",
              "version_major": 2,
              "version_minor": 0
            },
            "text/plain": [
              "  0%|          | 0/4131 [00:00<?, ?it/s]"
            ]
          },
          "metadata": {},
          "output_type": "display_data"
        },
        {
          "name": "stdout",
          "output_type": "stream",
          "text": [
            "Validation | Epoch 6 | acc = 0.788\n",
            "Saving Model ...\n"
          ]
        }
      ],
      "source": [
        "num_epoch = 6#1 ## [ARRANGE] 30\n",
        "validation = True\n",
        "logging_step = 100 \n",
        "learning_rate = 1e-5 #1e-4 ## [ARRANGE] 1e-5\n",
        "# doc_stride = 300 ## [ARRANGE](add this line)\n",
        "\n",
        "optimizer = AdamW(model.parameters(), lr=learning_rate)\n",
        "\n",
        "if fp16_training:\n",
        "    model, optimizer, train_loader = accelerator.prepare(model, optimizer, train_loader) \n",
        "\n",
        "from transformers import AdamW, BertForQuestionAnswering, BertTokenizer, get_linear_schedule_with_warmup, BertModel, BertTokenizerFast\n",
        "\n",
        "##[ARRANGE]\n",
        "total_steps = len(train_loader)*num_epoch\n",
        "print('total_steps:', total_steps)\n",
        "##[ARRANGE]\n",
        "scheduler = get_linear_schedule_with_warmup(optimizer, num_warmup_steps= 0, # Default value\n",
        "                                                num_training_steps=total_steps)\n",
        "##[ARRANGE]\n",
        "if not validation:\n",
        "    dev_set = QA_Dataset(\"train\", dev_questions, dev_questions_tokenized, dev_paragraphs_tokenized)\n",
        "    train_set = torch.utils.data.ConcatDataset([train_set, dev_set])\n",
        "    train_loader = DataLoader(train_set, batch_size=train_batch_size, shuffle=True, pin_memory=True)\n",
        "\n",
        "model.train()\n",
        "\n",
        "print(\"Start Training ...\")\n",
        "\n",
        "for epoch in range(num_epoch):\n",
        "    step = 1\n",
        "    train_loss = train_acc = 0\n",
        "    \n",
        "    for data in tqdm(train_loader):\t\n",
        "        # Load all data into GPU\n",
        "        data = [i.to(device) for i in data]\n",
        "        \n",
        "        # Model inputs: input_ids, token_type_ids, attention_mask, start_positions, end_positions (Note: only \"input_ids\" is mandatory)\n",
        "        # Model outputs: start_logits, end_logits, loss (return when start_positions/end_positions are provided)  \n",
        "        output = model(input_ids=data[0], token_type_ids=data[1], attention_mask=data[2], start_positions=data[3], end_positions=data[4])\n",
        "\n",
        "        # Choose the most probable start position / end position\n",
        "        start_index = torch.argmax(output.start_logits, dim=1)\n",
        "        end_index = torch.argmax(output.end_logits, dim=1)\n",
        "        \n",
        "        # Prediction is correct only if both start_index and end_index are correct\n",
        "        train_acc += ((start_index == data[3]) & (end_index == data[4])).float().mean()\n",
        "        train_loss += output.loss\n",
        "        \n",
        "        if fp16_training:\n",
        "            accelerator.backward(output.loss)\n",
        "        else:\n",
        "            output.loss.backward()\n",
        "        \n",
        "        optimizer.step()        \n",
        "\n",
        "        ##### TODO: Apply linear learning rate decay #####\n",
        "        ## [ARRANGE]\n",
        "        scheduler.step()\n",
        "        optimizer.zero_grad()\n",
        "        step += 1\n",
        "\n",
        "        # Print training loss and accuracy over past logging step\n",
        "        if step % logging_step == 0:\n",
        "            print(f\"Epoch {epoch + 1} | Step {step} | loss = {train_loss.item() / logging_step:.3f}, acc = {train_acc / logging_step:.3f}\")\n",
        "            train_loss = train_acc = 0\n",
        "\n",
        "    if validation:\n",
        "        print(\"Evaluating Dev Set ...\")\n",
        "        model.eval()\n",
        "        with torch.no_grad():\n",
        "            dev_acc = 0\n",
        "            for i, data in enumerate(tqdm(dev_loader)):\n",
        "                output = model(input_ids=data[0].squeeze(dim=0).to(device), token_type_ids=data[1].squeeze(dim=0).to(device),\n",
        "                       attention_mask=data[2].squeeze(dim=0).to(device))\n",
        "                # prediction is correct only if answer text exactly matches\n",
        "                dev_acc += evaluate(data, output) == dev_questions[i][\"answer_text\"]\n",
        "            print(f\"Validation | Epoch {epoch + 1} | acc = {dev_acc / len(dev_loader):.3f}\")\n",
        "        model.train()\n",
        "\n",
        "# Save a model and its configuration file to the directory 「saved_model」 \n",
        "# i.e. there are two files under the direcory 「saved_model」: 「pytorch_model.bin」 and 「config.json」\n",
        "# Saved model can be re-loaded using 「model = BertForQuestionAnswering.from_pretrained(\"saved_model\")」\n",
        "print(\"Saving Model ...\")\n",
        "model_save_dir = \"saved_model\" \n",
        "model.save_pretrained(model_save_dir)"
      ]
    },
    {
      "cell_type": "markdown",
      "id": "d30d1ba4",
      "metadata": {
        "id": "d30d1ba4",
        "papermill": {
          "duration": 0.138791,
          "end_time": "2022-04-18T08:23:46.791217",
          "exception": false,
          "start_time": "2022-04-18T08:23:46.652426",
          "status": "completed"
        },
        "tags": []
      },
      "source": [
        "## Testing"
      ]
    },
    {
      "cell_type": "code",
      "execution_count": null,
      "id": "fe46b531",
      "metadata": {
        "execution": {
          "iopub.execute_input": "2022-04-18T08:23:47.073479Z",
          "iopub.status.busy": "2022-04-18T08:23:47.072488Z",
          "iopub.status.idle": "2022-04-18T08:31:16.999136Z",
          "shell.execute_reply": "2022-04-18T08:31:16.998447Z",
          "shell.execute_reply.started": "2022-04-17T18:59:38.011951Z"
        },
        "id": "fe46b531",
        "papermill": {
          "duration": 450.07383,
          "end_time": "2022-04-18T08:31:16.999315",
          "exception": false,
          "start_time": "2022-04-18T08:23:46.925485",
          "status": "completed"
        },
        "tags": [],
        "colab": {
          "referenced_widgets": [
            "24afee75cbdd4a33a7c3b07cc644b329"
          ]
        },
        "outputId": "349516c7-c87e-41cd-9b9f-53754434cace"
      },
      "outputs": [
        {
          "name": "stdout",
          "output_type": "stream",
          "text": [
            "Evaluating Test Set ...\n"
          ]
        },
        {
          "data": {
            "application/vnd.jupyter.widget-view+json": {
              "model_id": "24afee75cbdd4a33a7c3b07cc644b329",
              "version_major": 2,
              "version_minor": 0
            },
            "text/plain": [
              "  0%|          | 0/4957 [00:00<?, ?it/s]"
            ]
          },
          "metadata": {},
          "output_type": "display_data"
        },
        {
          "name": "stdout",
          "output_type": "stream",
          "text": [
            "Completed! Result is in ./result.csv\n"
          ]
        }
      ],
      "source": [
        "print(\"Evaluating Test Set ...\")\n",
        "\n",
        "result = []\n",
        "\n",
        "model.eval()\n",
        "with torch.no_grad():\n",
        "    for data in tqdm(test_loader):\n",
        "        output = model(input_ids=data[0].squeeze(dim=0).to(device), token_type_ids=data[1].squeeze(dim=0).to(device),\n",
        "                       attention_mask=data[2].squeeze(dim=0).to(device))\n",
        "        result.append(evaluate(data, output))\n",
        "\n",
        "result_file = \"./result.csv\"\n",
        "with open(result_file, 'w') as f:\t\n",
        "\t  f.write(\"ID,Answer\\n\")\n",
        "\t  for i, test_question in enumerate(test_questions):\n",
        "        # Replace commas in answers with empty strings (since csv is separated by comma)\n",
        "        # Answers in kaggle are processed in the same way\n",
        "\t\t    f.write(f\"{test_question['id']},{result[i].replace(',','')}\\n\")\n",
        "\n",
        "print(f\"Completed! Result is in {result_file}\")"
      ]
    },
    {
      "cell_type": "code",
      "execution_count": null,
      "id": "70dda1c3",
      "metadata": {
        "papermill": {
          "duration": 0.122851,
          "end_time": "2022-04-18T08:31:17.255634",
          "exception": false,
          "start_time": "2022-04-18T08:31:17.132783",
          "status": "completed"
        },
        "tags": [],
        "id": "70dda1c3"
      },
      "outputs": [],
      "source": [
        ""
      ]
    }
  ],
  "metadata": {
    "kernelspec": {
      "display_name": "Python 3",
      "language": "python",
      "name": "python3"
    },
    "language_info": {
      "codemirror_mode": {
        "name": "ipython",
        "version": 3
      },
      "file_extension": ".py",
      "mimetype": "text/x-python",
      "name": "python",
      "nbconvert_exporter": "python",
      "pygments_lexer": "ipython3",
      "version": "3.7.12"
    },
    "papermill": {
      "default_parameters": {},
      "duration": 21814.431763,
      "end_time": "2022-04-18T08:31:20.516948",
      "environment_variables": {},
      "exception": null,
      "input_path": "__notebook__.ipynb",
      "output_path": "__notebook__.ipynb",
      "parameters": {},
      "start_time": "2022-04-18T02:27:46.085185",
      "version": "2.3.3"
    },
    "colab": {
      "name": "0816.ipynb",
      "provenance": [],
      "collapsed_sections": []
    }
  },
  "nbformat": 4,
  "nbformat_minor": 5
}